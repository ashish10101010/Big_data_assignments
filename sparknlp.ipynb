{
  "nbformat": 4,
  "nbformat_minor": 0,
  "metadata": {
    "colab": {
      "provenance": []
    },
    "kernelspec": {
      "name": "python3",
      "display_name": "Python 3"
    },
    "language_info": {
      "name": "python"
    }
  },
  "cells": [
    {
      "cell_type": "code",
      "execution_count": 1,
      "metadata": {
        "colab": {
          "base_uri": "https://localhost:8080/"
        },
        "id": "e5ANW-C1Qlen",
        "outputId": "f0e44dfb-f2ee-420b-e50a-e6c81130fa45"
      },
      "outputs": [
        {
          "output_type": "stream",
          "name": "stdout",
          "text": [
            "Requirement already satisfied: spark-nlp in /usr/local/lib/python3.10/dist-packages (5.4.0)\n"
          ]
        }
      ],
      "source": [
        "!pip install spark-nlp"
      ]
    },
    {
      "cell_type": "code",
      "source": [
        "!pip install numpy"
      ],
      "metadata": {
        "colab": {
          "base_uri": "https://localhost:8080/"
        },
        "id": "TUlxkQ8GbRLa",
        "outputId": "c446d9db-f7f0-4361-bee7-0987fb2e878b"
      },
      "execution_count": 2,
      "outputs": [
        {
          "output_type": "stream",
          "name": "stdout",
          "text": [
            "Requirement already satisfied: numpy in /usr/local/lib/python3.10/dist-packages (1.25.2)\n"
          ]
        }
      ]
    },
    {
      "cell_type": "code",
      "source": [
        "!pip install pyspark\n"
      ],
      "metadata": {
        "colab": {
          "base_uri": "https://localhost:8080/"
        },
        "id": "kDwjfxDWbuSJ",
        "outputId": "01fa8c1f-f3da-4473-f62e-e29857c306f0"
      },
      "execution_count": 3,
      "outputs": [
        {
          "output_type": "stream",
          "name": "stdout",
          "text": [
            "Requirement already satisfied: pyspark in /usr/local/lib/python3.10/dist-packages (3.5.1)\n",
            "Requirement already satisfied: py4j==0.10.9.7 in /usr/local/lib/python3.10/dist-packages (from pyspark) (0.10.9.7)\n"
          ]
        }
      ]
    },
    {
      "cell_type": "code",
      "source": [
        "!pip install spark"
      ],
      "metadata": {
        "colab": {
          "base_uri": "https://localhost:8080/"
        },
        "id": "SiFH2Jc2hY2X",
        "outputId": "3c472c4e-fa01-4a68-c4f1-e7c4cd82e549"
      },
      "execution_count": 4,
      "outputs": [
        {
          "output_type": "stream",
          "name": "stdout",
          "text": [
            "Requirement already satisfied: spark in /usr/local/lib/python3.10/dist-packages (0.2.1)\n"
          ]
        }
      ]
    },
    {
      "cell_type": "code",
      "source": [
        "import sparknlp\n",
        "import pyspark\n",
        "import spark\n",
        "sparknlp=sparknlp.start()"
      ],
      "metadata": {
        "id": "HX3FVDKvblgF"
      },
      "execution_count": 5,
      "outputs": []
    },
    {
      "cell_type": "code",
      "source": [
        "from pyspark.sql import SparkSession\n",
        "\n",
        "# Create a Spark session\n",
        "spark = SparkSession.builder \\\n",
        "    .appName(\"Create DataFrame from Text\") \\\n",
        "    .getOrCreate()\n",
        "\n",
        "# Sample text\n",
        "sample = '''As she travelled across the world, Emma visited many different places and\n",
        "met many fascinating people. She walked the streets of Tokyo, hiked the rugged\n",
        "mountains of Nepal, and swam in the crystal-clear waters of the Caribbean.\n",
        "Along the way, she befriended locals like Akira, Rajesh, and Maria, each with\n",
        "their own story to tell. Emma's travel took her to many cities, including\n",
        "New York, Paris, and Hong Kong, where she savored delicious foods and explored\n",
        "vibrant cultures. No matter where she went, Emma always found new wonders to\n",
        "discover and memories to cherish.'''\n",
        "\n",
        "# Create a DataFrame\n",
        "data = spark.createDataFrame([(sample,)]).toDF(\"text\")\n",
        "\n",
        "# Show the DataFrame\n",
        "data.show(truncate=False)"
      ],
      "metadata": {
        "colab": {
          "base_uri": "https://localhost:8080/"
        },
        "id": "QUzUfWMiTUYD",
        "outputId": "e8386055-ff14-4511-9ccb-c614275c84c4"
      },
      "execution_count": 6,
      "outputs": [
        {
          "output_type": "stream",
          "name": "stdout",
          "text": [
            "+------------------------------------------------------------------------------------------------------------------------------------------------------------------------------------------------------------------------------------------------------------------------------------------------------------------------------------------------------------------------------------------------------------------------------------------------------------------------------------------------------------------------------------------------------------------------------------------------+\n",
            "|text                                                                                                                                                                                                                                                                                                                                                                                                                                                                                                                                                                                            |\n",
            "+------------------------------------------------------------------------------------------------------------------------------------------------------------------------------------------------------------------------------------------------------------------------------------------------------------------------------------------------------------------------------------------------------------------------------------------------------------------------------------------------------------------------------------------------------------------------------------------------+\n",
            "|As she travelled across the world, Emma visited many different places and\\nmet many fascinating people. She walked the streets of Tokyo, hiked the rugged\\nmountains of Nepal, and swam in the crystal-clear waters of the Caribbean.\\nAlong the way, she befriended locals like Akira, Rajesh, and Maria, each with\\ntheir own story to tell. Emma's travel took her to many cities, including\\nNew York, Paris, and Hong Kong, where she savored delicious foods and explored\\nvibrant cultures. No matter where she went, Emma always found new wonders to\\ndiscover and memories to cherish.|\n",
            "+------------------------------------------------------------------------------------------------------------------------------------------------------------------------------------------------------------------------------------------------------------------------------------------------------------------------------------------------------------------------------------------------------------------------------------------------------------------------------------------------------------------------------------------------------------------------------------------------+\n",
            "\n"
          ]
        }
      ]
    },
    {
      "cell_type": "code",
      "source": [
        "#person\n",
        "person_matches='''\n",
        "Emma\n",
        "Akira\n",
        "Rajesh\n",
        "Muriya\n",
        "'''\n",
        "\n",
        "with open('person_matches','w') as f:\n",
        "  f.write(person_matches)\n",
        "\n",
        "\n",
        "#location\n",
        "location_matches='''\n",
        "Tokyo\n",
        "Nepal\n",
        "caribbean\n",
        "New_york\n",
        "Paris\n",
        "Hong Kong\n",
        "'''\n",
        "\n",
        "\n",
        "with open('location_matches','w') as f:\n",
        "  f.write(location_matches)\n"
      ],
      "metadata": {
        "id": "ggLv2ExGiViQ"
      },
      "execution_count": 8,
      "outputs": []
    },
    {
      "cell_type": "code",
      "source": [
        "from sparknlp.base import DocumentAssembler,Pipeline,ReadAs\n",
        "\n",
        "from sparknlp.annotator import(\n",
        "    Tokenizer,\n",
        "    TextMatcher)\n",
        "\n",
        "from pyspark.sql.types import StringType\n",
        "import pyspark.sql.functions as F"
      ],
      "metadata": {
        "id": "PPaLIpI9j4rv"
      },
      "execution_count": 9,
      "outputs": []
    },
    {
      "cell_type": "code",
      "source": [
        "document_assembler=DocumentAssembler() \\\n",
        "  .setInputCol(\"text\") \\\n",
        "  .setOutputCol(\"document\")"
      ],
      "metadata": {
        "id": "cdL0C_fuk9IW"
      },
      "execution_count": 10,
      "outputs": []
    },
    {
      "cell_type": "code",
      "source": [
        "tokenizer=Tokenizer() \\\n",
        "  .setInputCols(\"document\") \\\n",
        "  .setOutputCol(\"token\")\n"
      ],
      "metadata": {
        "id": "TNfPCXqXlwGJ"
      },
      "execution_count": 11,
      "outputs": []
    },
    {
      "cell_type": "code",
      "source": [
        "#pipeline=Pipeline().setStages([document_assembler,tokenizer,person_extractor,location_extractor])\n",
        "pipeline = Pipeline().setStages([document_assembler, tokenizer])"
      ],
      "metadata": {
        "id": "KanngBABUL7A"
      },
      "execution_count": 22,
      "outputs": []
    },
    {
      "cell_type": "code",
      "source": [
        "# Fit and transform the data\n",
        "model = pipeline.fit(data)\n",
        "result = model.transform(data)"
      ],
      "metadata": {
        "id": "-JFz6NafXFMG"
      },
      "execution_count": 23,
      "outputs": []
    },
    {
      "cell_type": "code",
      "source": [
        "# Show the results\n",
        "result.select(\"token.result\").show(truncate=False)"
      ],
      "metadata": {
        "colab": {
          "base_uri": "https://localhost:8080/"
        },
        "id": "MjQKNsbhW7qU",
        "outputId": "5ef14a8d-a4da-4bb8-dca7-a41e67c2e6b8"
      },
      "execution_count": 24,
      "outputs": [
        {
          "output_type": "stream",
          "name": "stdout",
          "text": [
            "+--------------------------------------------------------------------------------------------------------------------------------------------------------------------------------------------------------------------------------------------------------------------------------------------------------------------------------------------------------------------------------------------------------------------------------------------------------------------------------------------------------------------------------------------------------------------------------------------------------------------------------------------------------------------------------------------------------------------------+\n",
            "|result                                                                                                                                                                                                                                                                                                                                                                                                                                                                                                                                                                                                                                                                                                                    |\n",
            "+--------------------------------------------------------------------------------------------------------------------------------------------------------------------------------------------------------------------------------------------------------------------------------------------------------------------------------------------------------------------------------------------------------------------------------------------------------------------------------------------------------------------------------------------------------------------------------------------------------------------------------------------------------------------------------------------------------------------------+\n",
            "|[As, she, travelled, across, the, world, ,, Emma, visited, many, different, places, and, met, many, fascinating, people, ., She, walked, the, streets, of, Tokyo, ,, hiked, the, rugged, mountains, of, Nepal, ,, and, swam, in, the, crystal-clear, waters, of, the, Caribbean, ., Along, the, way, ,, she, befriended, locals, like, Akira, ,, Rajesh, ,, and, Maria, ,, each, with, their, own, story, to, tell, ., Emma's, travel, took, her, to, many, cities, ,, including, New, York, ,, Paris, ,, and, Hong, Kong, ,, where, she, savored, delicious, foods, and, explored, vibrant, cultures, ., No, matter, where, she, went, ,, Emma, always, found, new, wonders, to, discover, and, memories, to, cherish, .]|\n",
            "+--------------------------------------------------------------------------------------------------------------------------------------------------------------------------------------------------------------------------------------------------------------------------------------------------------------------------------------------------------------------------------------------------------------------------------------------------------------------------------------------------------------------------------------------------------------------------------------------------------------------------------------------------------------------------------------------------------------------------+\n",
            "\n"
          ]
        }
      ]
    },
    {
      "cell_type": "code",
      "source": [],
      "metadata": {
        "id": "dB55R0vdqNwg"
      },
      "execution_count": null,
      "outputs": []
    }
  ]
}