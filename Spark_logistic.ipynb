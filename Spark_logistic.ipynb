{
  "nbformat": 4,
  "nbformat_minor": 0,
  "metadata": {
    "colab": {
      "provenance": []
    },
    "kernelspec": {
      "name": "python3",
      "display_name": "Python 3"
    },
    "language_info": {
      "name": "python"
    }
  },
  "cells": [
    {
      "cell_type": "code",
      "execution_count": 1,
      "metadata": {
        "colab": {
          "base_uri": "https://localhost:8080/"
        },
        "id": "FA2Xp069-8Ka",
        "outputId": "d383608f-f00b-4260-9aac-ce72fbaecde3"
      },
      "outputs": [
        {
          "output_type": "stream",
          "name": "stdout",
          "text": [
            "Collecting ucimlrepo\n",
            "  Downloading ucimlrepo-0.0.7-py3-none-any.whl (8.0 kB)\n",
            "Requirement already satisfied: pandas>=1.0.0 in /usr/local/lib/python3.10/dist-packages (from ucimlrepo) (2.0.3)\n",
            "Requirement already satisfied: certifi>=2020.12.5 in /usr/local/lib/python3.10/dist-packages (from ucimlrepo) (2024.6.2)\n",
            "Requirement already satisfied: python-dateutil>=2.8.2 in /usr/local/lib/python3.10/dist-packages (from pandas>=1.0.0->ucimlrepo) (2.8.2)\n",
            "Requirement already satisfied: pytz>=2020.1 in /usr/local/lib/python3.10/dist-packages (from pandas>=1.0.0->ucimlrepo) (2023.4)\n",
            "Requirement already satisfied: tzdata>=2022.1 in /usr/local/lib/python3.10/dist-packages (from pandas>=1.0.0->ucimlrepo) (2024.1)\n",
            "Requirement already satisfied: numpy>=1.21.0 in /usr/local/lib/python3.10/dist-packages (from pandas>=1.0.0->ucimlrepo) (1.25.2)\n",
            "Requirement already satisfied: six>=1.5 in /usr/local/lib/python3.10/dist-packages (from python-dateutil>=2.8.2->pandas>=1.0.0->ucimlrepo) (1.16.0)\n",
            "Installing collected packages: ucimlrepo\n",
            "Successfully installed ucimlrepo-0.0.7\n"
          ]
        }
      ],
      "source": [
        "pip install ucimlrepo"
      ]
    },
    {
      "cell_type": "code",
      "source": [
        "from ucimlrepo import fetch_ucirepo\n",
        "\n",
        "# fetch dataset\n",
        "adult = fetch_ucirepo(id=2)\n",
        "\n",
        "# data (as pandas dataframes)\n",
        "X = adult.data.features\n",
        "y = adult.data.targets\n",
        "\n",
        "# metadata\n",
        "print(adult.metadata)\n",
        "\n",
        "# variable information\n",
        "print(adult.variables)\n"
      ],
      "metadata": {
        "colab": {
          "base_uri": "https://localhost:8080/"
        },
        "id": "X-_ZXVJd-9hu",
        "outputId": "d9b6f2a3-64dc-4cf0-99fc-c61cb31f115f"
      },
      "execution_count": 2,
      "outputs": [
        {
          "output_type": "stream",
          "name": "stdout",
          "text": [
            "{'uci_id': 2, 'name': 'Adult', 'repository_url': 'https://archive.ics.uci.edu/dataset/2/adult', 'data_url': 'https://archive.ics.uci.edu/static/public/2/data.csv', 'abstract': 'Predict whether income exceeds $50K/yr based on census data. Also known as \"Census Income\" dataset. ', 'area': 'Social Science', 'tasks': ['Classification'], 'characteristics': ['Multivariate'], 'num_instances': 48842, 'num_features': 14, 'feature_types': ['Categorical', 'Integer'], 'demographics': ['Age', 'Income', 'Education Level', 'Other', 'Race', 'Sex'], 'target_col': ['income'], 'index_col': None, 'has_missing_values': 'yes', 'missing_values_symbol': 'NaN', 'year_of_dataset_creation': 1996, 'last_updated': 'Mon Aug 07 2023', 'dataset_doi': '10.24432/C5XW20', 'creators': ['Barry Becker', 'Ronny Kohavi'], 'intro_paper': None, 'additional_info': {'summary': 'Extraction was done by Barry Becker from the 1994 Census database.  A set of reasonably clean records was extracted using the following conditions: ((AAGE>16) && (AGI>100) && (AFNLWGT>1)&& (HRSWK>0))\\r\\n\\r\\nPrediction task is to determine whether a person makes over 50K a year.\\r\\n', 'purpose': None, 'funded_by': None, 'instances_represent': None, 'recommended_data_splits': None, 'sensitive_data': None, 'preprocessing_description': None, 'variable_info': 'Listing of attributes:\\r\\n\\r\\n>50K, <=50K.\\r\\n\\r\\nage: continuous.\\r\\nworkclass: Private, Self-emp-not-inc, Self-emp-inc, Federal-gov, Local-gov, State-gov, Without-pay, Never-worked.\\r\\nfnlwgt: continuous.\\r\\neducation: Bachelors, Some-college, 11th, HS-grad, Prof-school, Assoc-acdm, Assoc-voc, 9th, 7th-8th, 12th, Masters, 1st-4th, 10th, Doctorate, 5th-6th, Preschool.\\r\\neducation-num: continuous.\\r\\nmarital-status: Married-civ-spouse, Divorced, Never-married, Separated, Widowed, Married-spouse-absent, Married-AF-spouse.\\r\\noccupation: Tech-support, Craft-repair, Other-service, Sales, Exec-managerial, Prof-specialty, Handlers-cleaners, Machine-op-inspct, Adm-clerical, Farming-fishing, Transport-moving, Priv-house-serv, Protective-serv, Armed-Forces.\\r\\nrelationship: Wife, Own-child, Husband, Not-in-family, Other-relative, Unmarried.\\r\\nrace: White, Asian-Pac-Islander, Amer-Indian-Eskimo, Other, Black.\\r\\nsex: Female, Male.\\r\\ncapital-gain: continuous.\\r\\ncapital-loss: continuous.\\r\\nhours-per-week: continuous.\\r\\nnative-country: United-States, Cambodia, England, Puerto-Rico, Canada, Germany, Outlying-US(Guam-USVI-etc), India, Japan, Greece, South, China, Cuba, Iran, Honduras, Philippines, Italy, Poland, Jamaica, Vietnam, Mexico, Portugal, Ireland, France, Dominican-Republic, Laos, Ecuador, Taiwan, Haiti, Columbia, Hungary, Guatemala, Nicaragua, Scotland, Thailand, Yugoslavia, El-Salvador, Trinadad&Tobago, Peru, Hong, Holand-Netherlands.', 'citation': None}}\n",
            "              name     role         type      demographic  \\\n",
            "0              age  Feature      Integer              Age   \n",
            "1        workclass  Feature  Categorical           Income   \n",
            "2           fnlwgt  Feature      Integer             None   \n",
            "3        education  Feature  Categorical  Education Level   \n",
            "4    education-num  Feature      Integer  Education Level   \n",
            "5   marital-status  Feature  Categorical            Other   \n",
            "6       occupation  Feature  Categorical            Other   \n",
            "7     relationship  Feature  Categorical            Other   \n",
            "8             race  Feature  Categorical             Race   \n",
            "9              sex  Feature       Binary              Sex   \n",
            "10    capital-gain  Feature      Integer             None   \n",
            "11    capital-loss  Feature      Integer             None   \n",
            "12  hours-per-week  Feature      Integer             None   \n",
            "13  native-country  Feature  Categorical            Other   \n",
            "14          income   Target       Binary           Income   \n",
            "\n",
            "                                          description units missing_values  \n",
            "0                                                 N/A  None             no  \n",
            "1   Private, Self-emp-not-inc, Self-emp-inc, Feder...  None            yes  \n",
            "2                                                None  None             no  \n",
            "3    Bachelors, Some-college, 11th, HS-grad, Prof-...  None             no  \n",
            "4                                                None  None             no  \n",
            "5   Married-civ-spouse, Divorced, Never-married, S...  None             no  \n",
            "6   Tech-support, Craft-repair, Other-service, Sal...  None            yes  \n",
            "7   Wife, Own-child, Husband, Not-in-family, Other...  None             no  \n",
            "8   White, Asian-Pac-Islander, Amer-Indian-Eskimo,...  None             no  \n",
            "9                                       Female, Male.  None             no  \n",
            "10                                               None  None             no  \n",
            "11                                               None  None             no  \n",
            "12                                               None  None             no  \n",
            "13  United-States, Cambodia, England, Puerto-Rico,...  None            yes  \n",
            "14                                       >50K, <=50K.  None             no  \n"
          ]
        }
      ]
    },
    {
      "cell_type": "code",
      "source": [
        " X.head()   #here u will get the datset in the from of rows and columns means in pandas table"
      ],
      "metadata": {
        "colab": {
          "base_uri": "https://localhost:8080/",
          "height": 310
        },
        "id": "SkBOUNwQ_GQj",
        "outputId": "916e1675-e704-4c7f-8f0e-a8746488f211"
      },
      "execution_count": 3,
      "outputs": [
        {
          "output_type": "execute_result",
          "data": {
            "text/plain": [
              "   age         workclass  fnlwgt  education  education-num  \\\n",
              "0   39         State-gov   77516  Bachelors             13   \n",
              "1   50  Self-emp-not-inc   83311  Bachelors             13   \n",
              "2   38           Private  215646    HS-grad              9   \n",
              "3   53           Private  234721       11th              7   \n",
              "4   28           Private  338409  Bachelors             13   \n",
              "\n",
              "       marital-status         occupation   relationship   race     sex  \\\n",
              "0       Never-married       Adm-clerical  Not-in-family  White    Male   \n",
              "1  Married-civ-spouse    Exec-managerial        Husband  White    Male   \n",
              "2            Divorced  Handlers-cleaners  Not-in-family  White    Male   \n",
              "3  Married-civ-spouse  Handlers-cleaners        Husband  Black    Male   \n",
              "4  Married-civ-spouse     Prof-specialty           Wife  Black  Female   \n",
              "\n",
              "   capital-gain  capital-loss  hours-per-week native-country  \n",
              "0          2174             0              40  United-States  \n",
              "1             0             0              13  United-States  \n",
              "2             0             0              40  United-States  \n",
              "3             0             0              40  United-States  \n",
              "4             0             0              40           Cuba  "
            ],
            "text/html": [
              "\n",
              "  <div id=\"df-c2413760-49fc-4a00-8d59-518b5f6d5a31\" class=\"colab-df-container\">\n",
              "    <div>\n",
              "<style scoped>\n",
              "    .dataframe tbody tr th:only-of-type {\n",
              "        vertical-align: middle;\n",
              "    }\n",
              "\n",
              "    .dataframe tbody tr th {\n",
              "        vertical-align: top;\n",
              "    }\n",
              "\n",
              "    .dataframe thead th {\n",
              "        text-align: right;\n",
              "    }\n",
              "</style>\n",
              "<table border=\"1\" class=\"dataframe\">\n",
              "  <thead>\n",
              "    <tr style=\"text-align: right;\">\n",
              "      <th></th>\n",
              "      <th>age</th>\n",
              "      <th>workclass</th>\n",
              "      <th>fnlwgt</th>\n",
              "      <th>education</th>\n",
              "      <th>education-num</th>\n",
              "      <th>marital-status</th>\n",
              "      <th>occupation</th>\n",
              "      <th>relationship</th>\n",
              "      <th>race</th>\n",
              "      <th>sex</th>\n",
              "      <th>capital-gain</th>\n",
              "      <th>capital-loss</th>\n",
              "      <th>hours-per-week</th>\n",
              "      <th>native-country</th>\n",
              "    </tr>\n",
              "  </thead>\n",
              "  <tbody>\n",
              "    <tr>\n",
              "      <th>0</th>\n",
              "      <td>39</td>\n",
              "      <td>State-gov</td>\n",
              "      <td>77516</td>\n",
              "      <td>Bachelors</td>\n",
              "      <td>13</td>\n",
              "      <td>Never-married</td>\n",
              "      <td>Adm-clerical</td>\n",
              "      <td>Not-in-family</td>\n",
              "      <td>White</td>\n",
              "      <td>Male</td>\n",
              "      <td>2174</td>\n",
              "      <td>0</td>\n",
              "      <td>40</td>\n",
              "      <td>United-States</td>\n",
              "    </tr>\n",
              "    <tr>\n",
              "      <th>1</th>\n",
              "      <td>50</td>\n",
              "      <td>Self-emp-not-inc</td>\n",
              "      <td>83311</td>\n",
              "      <td>Bachelors</td>\n",
              "      <td>13</td>\n",
              "      <td>Married-civ-spouse</td>\n",
              "      <td>Exec-managerial</td>\n",
              "      <td>Husband</td>\n",
              "      <td>White</td>\n",
              "      <td>Male</td>\n",
              "      <td>0</td>\n",
              "      <td>0</td>\n",
              "      <td>13</td>\n",
              "      <td>United-States</td>\n",
              "    </tr>\n",
              "    <tr>\n",
              "      <th>2</th>\n",
              "      <td>38</td>\n",
              "      <td>Private</td>\n",
              "      <td>215646</td>\n",
              "      <td>HS-grad</td>\n",
              "      <td>9</td>\n",
              "      <td>Divorced</td>\n",
              "      <td>Handlers-cleaners</td>\n",
              "      <td>Not-in-family</td>\n",
              "      <td>White</td>\n",
              "      <td>Male</td>\n",
              "      <td>0</td>\n",
              "      <td>0</td>\n",
              "      <td>40</td>\n",
              "      <td>United-States</td>\n",
              "    </tr>\n",
              "    <tr>\n",
              "      <th>3</th>\n",
              "      <td>53</td>\n",
              "      <td>Private</td>\n",
              "      <td>234721</td>\n",
              "      <td>11th</td>\n",
              "      <td>7</td>\n",
              "      <td>Married-civ-spouse</td>\n",
              "      <td>Handlers-cleaners</td>\n",
              "      <td>Husband</td>\n",
              "      <td>Black</td>\n",
              "      <td>Male</td>\n",
              "      <td>0</td>\n",
              "      <td>0</td>\n",
              "      <td>40</td>\n",
              "      <td>United-States</td>\n",
              "    </tr>\n",
              "    <tr>\n",
              "      <th>4</th>\n",
              "      <td>28</td>\n",
              "      <td>Private</td>\n",
              "      <td>338409</td>\n",
              "      <td>Bachelors</td>\n",
              "      <td>13</td>\n",
              "      <td>Married-civ-spouse</td>\n",
              "      <td>Prof-specialty</td>\n",
              "      <td>Wife</td>\n",
              "      <td>Black</td>\n",
              "      <td>Female</td>\n",
              "      <td>0</td>\n",
              "      <td>0</td>\n",
              "      <td>40</td>\n",
              "      <td>Cuba</td>\n",
              "    </tr>\n",
              "  </tbody>\n",
              "</table>\n",
              "</div>\n",
              "    <div class=\"colab-df-buttons\">\n",
              "\n",
              "  <div class=\"colab-df-container\">\n",
              "    <button class=\"colab-df-convert\" onclick=\"convertToInteractive('df-c2413760-49fc-4a00-8d59-518b5f6d5a31')\"\n",
              "            title=\"Convert this dataframe to an interactive table.\"\n",
              "            style=\"display:none;\">\n",
              "\n",
              "  <svg xmlns=\"http://www.w3.org/2000/svg\" height=\"24px\" viewBox=\"0 -960 960 960\">\n",
              "    <path d=\"M120-120v-720h720v720H120Zm60-500h600v-160H180v160Zm220 220h160v-160H400v160Zm0 220h160v-160H400v160ZM180-400h160v-160H180v160Zm440 0h160v-160H620v160ZM180-180h160v-160H180v160Zm440 0h160v-160H620v160Z\"/>\n",
              "  </svg>\n",
              "    </button>\n",
              "\n",
              "  <style>\n",
              "    .colab-df-container {\n",
              "      display:flex;\n",
              "      gap: 12px;\n",
              "    }\n",
              "\n",
              "    .colab-df-convert {\n",
              "      background-color: #E8F0FE;\n",
              "      border: none;\n",
              "      border-radius: 50%;\n",
              "      cursor: pointer;\n",
              "      display: none;\n",
              "      fill: #1967D2;\n",
              "      height: 32px;\n",
              "      padding: 0 0 0 0;\n",
              "      width: 32px;\n",
              "    }\n",
              "\n",
              "    .colab-df-convert:hover {\n",
              "      background-color: #E2EBFA;\n",
              "      box-shadow: 0px 1px 2px rgba(60, 64, 67, 0.3), 0px 1px 3px 1px rgba(60, 64, 67, 0.15);\n",
              "      fill: #174EA6;\n",
              "    }\n",
              "\n",
              "    .colab-df-buttons div {\n",
              "      margin-bottom: 4px;\n",
              "    }\n",
              "\n",
              "    [theme=dark] .colab-df-convert {\n",
              "      background-color: #3B4455;\n",
              "      fill: #D2E3FC;\n",
              "    }\n",
              "\n",
              "    [theme=dark] .colab-df-convert:hover {\n",
              "      background-color: #434B5C;\n",
              "      box-shadow: 0px 1px 3px 1px rgba(0, 0, 0, 0.15);\n",
              "      filter: drop-shadow(0px 1px 2px rgba(0, 0, 0, 0.3));\n",
              "      fill: #FFFFFF;\n",
              "    }\n",
              "  </style>\n",
              "\n",
              "    <script>\n",
              "      const buttonEl =\n",
              "        document.querySelector('#df-c2413760-49fc-4a00-8d59-518b5f6d5a31 button.colab-df-convert');\n",
              "      buttonEl.style.display =\n",
              "        google.colab.kernel.accessAllowed ? 'block' : 'none';\n",
              "\n",
              "      async function convertToInteractive(key) {\n",
              "        const element = document.querySelector('#df-c2413760-49fc-4a00-8d59-518b5f6d5a31');\n",
              "        const dataTable =\n",
              "          await google.colab.kernel.invokeFunction('convertToInteractive',\n",
              "                                                    [key], {});\n",
              "        if (!dataTable) return;\n",
              "\n",
              "        const docLinkHtml = 'Like what you see? Visit the ' +\n",
              "          '<a target=\"_blank\" href=https://colab.research.google.com/notebooks/data_table.ipynb>data table notebook</a>'\n",
              "          + ' to learn more about interactive tables.';\n",
              "        element.innerHTML = '';\n",
              "        dataTable['output_type'] = 'display_data';\n",
              "        await google.colab.output.renderOutput(dataTable, element);\n",
              "        const docLink = document.createElement('div');\n",
              "        docLink.innerHTML = docLinkHtml;\n",
              "        element.appendChild(docLink);\n",
              "      }\n",
              "    </script>\n",
              "  </div>\n",
              "\n",
              "\n",
              "<div id=\"df-6dc0bee8-c788-4e8a-b470-c230fb98bfd7\">\n",
              "  <button class=\"colab-df-quickchart\" onclick=\"quickchart('df-6dc0bee8-c788-4e8a-b470-c230fb98bfd7')\"\n",
              "            title=\"Suggest charts\"\n",
              "            style=\"display:none;\">\n",
              "\n",
              "<svg xmlns=\"http://www.w3.org/2000/svg\" height=\"24px\"viewBox=\"0 0 24 24\"\n",
              "     width=\"24px\">\n",
              "    <g>\n",
              "        <path d=\"M19 3H5c-1.1 0-2 .9-2 2v14c0 1.1.9 2 2 2h14c1.1 0 2-.9 2-2V5c0-1.1-.9-2-2-2zM9 17H7v-7h2v7zm4 0h-2V7h2v10zm4 0h-2v-4h2v4z\"/>\n",
              "    </g>\n",
              "</svg>\n",
              "  </button>\n",
              "\n",
              "<style>\n",
              "  .colab-df-quickchart {\n",
              "      --bg-color: #E8F0FE;\n",
              "      --fill-color: #1967D2;\n",
              "      --hover-bg-color: #E2EBFA;\n",
              "      --hover-fill-color: #174EA6;\n",
              "      --disabled-fill-color: #AAA;\n",
              "      --disabled-bg-color: #DDD;\n",
              "  }\n",
              "\n",
              "  [theme=dark] .colab-df-quickchart {\n",
              "      --bg-color: #3B4455;\n",
              "      --fill-color: #D2E3FC;\n",
              "      --hover-bg-color: #434B5C;\n",
              "      --hover-fill-color: #FFFFFF;\n",
              "      --disabled-bg-color: #3B4455;\n",
              "      --disabled-fill-color: #666;\n",
              "  }\n",
              "\n",
              "  .colab-df-quickchart {\n",
              "    background-color: var(--bg-color);\n",
              "    border: none;\n",
              "    border-radius: 50%;\n",
              "    cursor: pointer;\n",
              "    display: none;\n",
              "    fill: var(--fill-color);\n",
              "    height: 32px;\n",
              "    padding: 0;\n",
              "    width: 32px;\n",
              "  }\n",
              "\n",
              "  .colab-df-quickchart:hover {\n",
              "    background-color: var(--hover-bg-color);\n",
              "    box-shadow: 0 1px 2px rgba(60, 64, 67, 0.3), 0 1px 3px 1px rgba(60, 64, 67, 0.15);\n",
              "    fill: var(--button-hover-fill-color);\n",
              "  }\n",
              "\n",
              "  .colab-df-quickchart-complete:disabled,\n",
              "  .colab-df-quickchart-complete:disabled:hover {\n",
              "    background-color: var(--disabled-bg-color);\n",
              "    fill: var(--disabled-fill-color);\n",
              "    box-shadow: none;\n",
              "  }\n",
              "\n",
              "  .colab-df-spinner {\n",
              "    border: 2px solid var(--fill-color);\n",
              "    border-color: transparent;\n",
              "    border-bottom-color: var(--fill-color);\n",
              "    animation:\n",
              "      spin 1s steps(1) infinite;\n",
              "  }\n",
              "\n",
              "  @keyframes spin {\n",
              "    0% {\n",
              "      border-color: transparent;\n",
              "      border-bottom-color: var(--fill-color);\n",
              "      border-left-color: var(--fill-color);\n",
              "    }\n",
              "    20% {\n",
              "      border-color: transparent;\n",
              "      border-left-color: var(--fill-color);\n",
              "      border-top-color: var(--fill-color);\n",
              "    }\n",
              "    30% {\n",
              "      border-color: transparent;\n",
              "      border-left-color: var(--fill-color);\n",
              "      border-top-color: var(--fill-color);\n",
              "      border-right-color: var(--fill-color);\n",
              "    }\n",
              "    40% {\n",
              "      border-color: transparent;\n",
              "      border-right-color: var(--fill-color);\n",
              "      border-top-color: var(--fill-color);\n",
              "    }\n",
              "    60% {\n",
              "      border-color: transparent;\n",
              "      border-right-color: var(--fill-color);\n",
              "    }\n",
              "    80% {\n",
              "      border-color: transparent;\n",
              "      border-right-color: var(--fill-color);\n",
              "      border-bottom-color: var(--fill-color);\n",
              "    }\n",
              "    90% {\n",
              "      border-color: transparent;\n",
              "      border-bottom-color: var(--fill-color);\n",
              "    }\n",
              "  }\n",
              "</style>\n",
              "\n",
              "  <script>\n",
              "    async function quickchart(key) {\n",
              "      const quickchartButtonEl =\n",
              "        document.querySelector('#' + key + ' button');\n",
              "      quickchartButtonEl.disabled = true;  // To prevent multiple clicks.\n",
              "      quickchartButtonEl.classList.add('colab-df-spinner');\n",
              "      try {\n",
              "        const charts = await google.colab.kernel.invokeFunction(\n",
              "            'suggestCharts', [key], {});\n",
              "      } catch (error) {\n",
              "        console.error('Error during call to suggestCharts:', error);\n",
              "      }\n",
              "      quickchartButtonEl.classList.remove('colab-df-spinner');\n",
              "      quickchartButtonEl.classList.add('colab-df-quickchart-complete');\n",
              "    }\n",
              "    (() => {\n",
              "      let quickchartButtonEl =\n",
              "        document.querySelector('#df-6dc0bee8-c788-4e8a-b470-c230fb98bfd7 button');\n",
              "      quickchartButtonEl.style.display =\n",
              "        google.colab.kernel.accessAllowed ? 'block' : 'none';\n",
              "    })();\n",
              "  </script>\n",
              "</div>\n",
              "\n",
              "    </div>\n",
              "  </div>\n"
            ],
            "application/vnd.google.colaboratory.intrinsic+json": {
              "type": "dataframe",
              "variable_name": "X",
              "summary": "{\n  \"name\": \"X\",\n  \"rows\": 48842,\n  \"fields\": [\n    {\n      \"column\": \"age\",\n      \"properties\": {\n        \"dtype\": \"number\",\n        \"std\": 13,\n        \"min\": 17,\n        \"max\": 90,\n        \"num_unique_values\": 74,\n        \"samples\": [\n          28,\n          73,\n          35\n        ],\n        \"semantic_type\": \"\",\n        \"description\": \"\"\n      }\n    },\n    {\n      \"column\": \"workclass\",\n      \"properties\": {\n        \"dtype\": \"category\",\n        \"num_unique_values\": 9,\n        \"samples\": [\n          \"Without-pay\",\n          \"Self-emp-not-inc\",\n          \"?\"\n        ],\n        \"semantic_type\": \"\",\n        \"description\": \"\"\n      }\n    },\n    {\n      \"column\": \"fnlwgt\",\n      \"properties\": {\n        \"dtype\": \"number\",\n        \"std\": 105604,\n        \"min\": 12285,\n        \"max\": 1490400,\n        \"num_unique_values\": 28523,\n        \"samples\": [\n          159077,\n          199450,\n          181773\n        ],\n        \"semantic_type\": \"\",\n        \"description\": \"\"\n      }\n    },\n    {\n      \"column\": \"education\",\n      \"properties\": {\n        \"dtype\": \"category\",\n        \"num_unique_values\": 16,\n        \"samples\": [\n          \"Bachelors\",\n          \"HS-grad\",\n          \"Some-college\"\n        ],\n        \"semantic_type\": \"\",\n        \"description\": \"\"\n      }\n    },\n    {\n      \"column\": \"education-num\",\n      \"properties\": {\n        \"dtype\": \"number\",\n        \"std\": 2,\n        \"min\": 1,\n        \"max\": 16,\n        \"num_unique_values\": 16,\n        \"samples\": [\n          13,\n          9,\n          10\n        ],\n        \"semantic_type\": \"\",\n        \"description\": \"\"\n      }\n    },\n    {\n      \"column\": \"marital-status\",\n      \"properties\": {\n        \"dtype\": \"category\",\n        \"num_unique_values\": 7,\n        \"samples\": [\n          \"Never-married\",\n          \"Married-civ-spouse\",\n          \"Married-AF-spouse\"\n        ],\n        \"semantic_type\": \"\",\n        \"description\": \"\"\n      }\n    },\n    {\n      \"column\": \"occupation\",\n      \"properties\": {\n        \"dtype\": \"category\",\n        \"num_unique_values\": 15,\n        \"samples\": [\n          \"Machine-op-inspct\",\n          \"?\",\n          \"Adm-clerical\"\n        ],\n        \"semantic_type\": \"\",\n        \"description\": \"\"\n      }\n    },\n    {\n      \"column\": \"relationship\",\n      \"properties\": {\n        \"dtype\": \"category\",\n        \"num_unique_values\": 6,\n        \"samples\": [\n          \"Not-in-family\",\n          \"Husband\",\n          \"Other-relative\"\n        ],\n        \"semantic_type\": \"\",\n        \"description\": \"\"\n      }\n    },\n    {\n      \"column\": \"race\",\n      \"properties\": {\n        \"dtype\": \"category\",\n        \"num_unique_values\": 5,\n        \"samples\": [\n          \"Black\",\n          \"Other\",\n          \"Asian-Pac-Islander\"\n        ],\n        \"semantic_type\": \"\",\n        \"description\": \"\"\n      }\n    },\n    {\n      \"column\": \"sex\",\n      \"properties\": {\n        \"dtype\": \"category\",\n        \"num_unique_values\": 2,\n        \"samples\": [\n          \"Female\",\n          \"Male\"\n        ],\n        \"semantic_type\": \"\",\n        \"description\": \"\"\n      }\n    },\n    {\n      \"column\": \"capital-gain\",\n      \"properties\": {\n        \"dtype\": \"number\",\n        \"std\": 7452,\n        \"min\": 0,\n        \"max\": 99999,\n        \"num_unique_values\": 123,\n        \"samples\": [\n          2176,\n          10520\n        ],\n        \"semantic_type\": \"\",\n        \"description\": \"\"\n      }\n    },\n    {\n      \"column\": \"capital-loss\",\n      \"properties\": {\n        \"dtype\": \"number\",\n        \"std\": 403,\n        \"min\": 0,\n        \"max\": 4356,\n        \"num_unique_values\": 99,\n        \"samples\": [\n          1974,\n          419\n        ],\n        \"semantic_type\": \"\",\n        \"description\": \"\"\n      }\n    },\n    {\n      \"column\": \"hours-per-week\",\n      \"properties\": {\n        \"dtype\": \"number\",\n        \"std\": 12,\n        \"min\": 1,\n        \"max\": 99,\n        \"num_unique_values\": 96,\n        \"samples\": [\n          97,\n          88\n        ],\n        \"semantic_type\": \"\",\n        \"description\": \"\"\n      }\n    },\n    {\n      \"column\": \"native-country\",\n      \"properties\": {\n        \"dtype\": \"category\",\n        \"num_unique_values\": 42,\n        \"samples\": [\n          \"El-Salvador\",\n          \"Philippines\"\n        ],\n        \"semantic_type\": \"\",\n        \"description\": \"\"\n      }\n    }\n  ]\n}"
            }
          },
          "metadata": {},
          "execution_count": 3
        }
      ]
    },
    {
      "cell_type": "code",
      "source": [
        "!pip install pyspark"
      ],
      "metadata": {
        "colab": {
          "base_uri": "https://localhost:8080/"
        },
        "id": "nuVeHPUr_LdT",
        "outputId": "34c3bcaa-69a5-41e7-ddf9-11b5a8b985ef"
      },
      "execution_count": 4,
      "outputs": [
        {
          "output_type": "stream",
          "name": "stdout",
          "text": [
            "Collecting pyspark\n",
            "  Downloading pyspark-3.5.1.tar.gz (317.0 MB)\n",
            "\u001b[2K     \u001b[90m━━━━━━━━━━━━━━━━━━━━━━━━━━━━━━━━━━━━━━━━\u001b[0m \u001b[32m317.0/317.0 MB\u001b[0m \u001b[31m3.9 MB/s\u001b[0m eta \u001b[36m0:00:00\u001b[0m\n",
            "\u001b[?25h  Preparing metadata (setup.py) ... \u001b[?25l\u001b[?25hdone\n",
            "Requirement already satisfied: py4j==0.10.9.7 in /usr/local/lib/python3.10/dist-packages (from pyspark) (0.10.9.7)\n",
            "Building wheels for collected packages: pyspark\n",
            "  Building wheel for pyspark (setup.py) ... \u001b[?25l\u001b[?25hdone\n",
            "  Created wheel for pyspark: filename=pyspark-3.5.1-py2.py3-none-any.whl size=317488491 sha256=74d177f5cac9b893e508ab30f4a9a603d4e8a2d51fe3a6745d56f9ae1c1591f0\n",
            "  Stored in directory: /root/.cache/pip/wheels/80/1d/60/2c256ed38dddce2fdd93be545214a63e02fbd8d74fb0b7f3a6\n",
            "Successfully built pyspark\n",
            "Installing collected packages: pyspark\n",
            "Successfully installed pyspark-3.5.1\n"
          ]
        }
      ]
    },
    {
      "cell_type": "code",
      "source": [
        "import pyspark\n",
        "from pyspark.sql import SparkSession"
      ],
      "metadata": {
        "id": "XcQtaEfy_xH2"
      },
      "execution_count": 5,
      "outputs": []
    },
    {
      "cell_type": "code",
      "source": [
        "# Create a Spark session\n",
        "spark = SparkSession.builder.appName(\"income_dataset\").getOrCreate()"
      ],
      "metadata": {
        "id": "CLDJabnV_0yb"
      },
      "execution_count": 7,
      "outputs": []
    },
    {
      "cell_type": "code",
      "source": [
        "data=spark.read.csv('/content/adult.data')\n",
        "data.show()"
      ],
      "metadata": {
        "colab": {
          "base_uri": "https://localhost:8080/"
        },
        "id": "Rzj39z2fAIO_",
        "outputId": "aa080e79-4d78-405e-d332-896e6c107794"
      },
      "execution_count": 8,
      "outputs": [
        {
          "output_type": "stream",
          "name": "stdout",
          "text": [
            "+---+-----------------+-------+-------------+---+--------------------+------------------+--------------+-------------------+-------+------+----+----+--------------+------+\n",
            "|_c0|              _c1|    _c2|          _c3|_c4|                 _c5|               _c6|           _c7|                _c8|    _c9|  _c10|_c11|_c12|          _c13|  _c14|\n",
            "+---+-----------------+-------+-------------+---+--------------------+------------------+--------------+-------------------+-------+------+----+----+--------------+------+\n",
            "| 39|        State-gov|  77516|    Bachelors| 13|       Never-married|      Adm-clerical| Not-in-family|              White|   Male|  2174|   0|  40| United-States| <=50K|\n",
            "| 50| Self-emp-not-inc|  83311|    Bachelors| 13|  Married-civ-spouse|   Exec-managerial|       Husband|              White|   Male|     0|   0|  13| United-States| <=50K|\n",
            "| 38|          Private| 215646|      HS-grad|  9|            Divorced| Handlers-cleaners| Not-in-family|              White|   Male|     0|   0|  40| United-States| <=50K|\n",
            "| 53|          Private| 234721|         11th|  7|  Married-civ-spouse| Handlers-cleaners|       Husband|              Black|   Male|     0|   0|  40| United-States| <=50K|\n",
            "| 28|          Private| 338409|    Bachelors| 13|  Married-civ-spouse|    Prof-specialty|          Wife|              Black| Female|     0|   0|  40|          Cuba| <=50K|\n",
            "| 37|          Private| 284582|      Masters| 14|  Married-civ-spouse|   Exec-managerial|          Wife|              White| Female|     0|   0|  40| United-States| <=50K|\n",
            "| 49|          Private| 160187|          9th|  5| Married-spouse-a...|     Other-service| Not-in-family|              Black| Female|     0|   0|  16|       Jamaica| <=50K|\n",
            "| 52| Self-emp-not-inc| 209642|      HS-grad|  9|  Married-civ-spouse|   Exec-managerial|       Husband|              White|   Male|     0|   0|  45| United-States|  >50K|\n",
            "| 31|          Private|  45781|      Masters| 14|       Never-married|    Prof-specialty| Not-in-family|              White| Female| 14084|   0|  50| United-States|  >50K|\n",
            "| 42|          Private| 159449|    Bachelors| 13|  Married-civ-spouse|   Exec-managerial|       Husband|              White|   Male|  5178|   0|  40| United-States|  >50K|\n",
            "| 37|          Private| 280464| Some-college| 10|  Married-civ-spouse|   Exec-managerial|       Husband|              Black|   Male|     0|   0|  80| United-States|  >50K|\n",
            "| 30|        State-gov| 141297|    Bachelors| 13|  Married-civ-spouse|    Prof-specialty|       Husband| Asian-Pac-Islander|   Male|     0|   0|  40|         India|  >50K|\n",
            "| 23|          Private| 122272|    Bachelors| 13|       Never-married|      Adm-clerical|     Own-child|              White| Female|     0|   0|  30| United-States| <=50K|\n",
            "| 32|          Private| 205019|   Assoc-acdm| 12|       Never-married|             Sales| Not-in-family|              Black|   Male|     0|   0|  50| United-States| <=50K|\n",
            "| 40|          Private| 121772|    Assoc-voc| 11|  Married-civ-spouse|      Craft-repair|       Husband| Asian-Pac-Islander|   Male|     0|   0|  40|             ?|  >50K|\n",
            "| 34|          Private| 245487|      7th-8th|  4|  Married-civ-spouse|  Transport-moving|       Husband| Amer-Indian-Eskimo|   Male|     0|   0|  45|        Mexico| <=50K|\n",
            "| 25| Self-emp-not-inc| 176756|      HS-grad|  9|       Never-married|   Farming-fishing|     Own-child|              White|   Male|     0|   0|  35| United-States| <=50K|\n",
            "| 32|          Private| 186824|      HS-grad|  9|       Never-married| Machine-op-inspct|     Unmarried|              White|   Male|     0|   0|  40| United-States| <=50K|\n",
            "| 38|          Private|  28887|         11th|  7|  Married-civ-spouse|             Sales|       Husband|              White|   Male|     0|   0|  50| United-States| <=50K|\n",
            "| 43| Self-emp-not-inc| 292175|      Masters| 14|            Divorced|   Exec-managerial|     Unmarried|              White| Female|     0|   0|  45| United-States|  >50K|\n",
            "+---+-----------------+-------+-------------+---+--------------------+------------------+--------------+-------------------+-------+------+----+----+--------------+------+\n",
            "only showing top 20 rows\n",
            "\n"
          ]
        }
      ]
    },
    {
      "cell_type": "code",
      "source": [
        "#adding label name to the columns\n",
        "labels=['age','workclass','fnlwgt','education','numbers','marital','occupation','relation','race','gender','gain','loss','hourlypay','country','income']"
      ],
      "metadata": {
        "id": "Yyta_f1tAuIf"
      },
      "execution_count": 9,
      "outputs": []
    },
    {
      "cell_type": "code",
      "source": [
        "df=data.toDF(*labels)\n",
        "df.show(5)"
      ],
      "metadata": {
        "colab": {
          "base_uri": "https://localhost:8080/"
        },
        "id": "UKYwBHiKB_4T",
        "outputId": "0d01b1c6-d094-414f-d0ef-2f8fc83c75e7"
      },
      "execution_count": 10,
      "outputs": [
        {
          "output_type": "stream",
          "name": "stdout",
          "text": [
            "+---+-----------------+-------+----------+-------+-------------------+------------------+--------------+------+-------+-----+----+---------+--------------+------+\n",
            "|age|        workclass| fnlwgt| education|numbers|            marital|        occupation|      relation|  race| gender| gain|loss|hourlypay|       country|income|\n",
            "+---+-----------------+-------+----------+-------+-------------------+------------------+--------------+------+-------+-----+----+---------+--------------+------+\n",
            "| 39|        State-gov|  77516| Bachelors|     13|      Never-married|      Adm-clerical| Not-in-family| White|   Male| 2174|   0|       40| United-States| <=50K|\n",
            "| 50| Self-emp-not-inc|  83311| Bachelors|     13| Married-civ-spouse|   Exec-managerial|       Husband| White|   Male|    0|   0|       13| United-States| <=50K|\n",
            "| 38|          Private| 215646|   HS-grad|      9|           Divorced| Handlers-cleaners| Not-in-family| White|   Male|    0|   0|       40| United-States| <=50K|\n",
            "| 53|          Private| 234721|      11th|      7| Married-civ-spouse| Handlers-cleaners|       Husband| Black|   Male|    0|   0|       40| United-States| <=50K|\n",
            "| 28|          Private| 338409| Bachelors|     13| Married-civ-spouse|    Prof-specialty|          Wife| Black| Female|    0|   0|       40|          Cuba| <=50K|\n",
            "+---+-----------------+-------+----------+-------+-------------------+------------------+--------------+------+-------+-----+----+---------+--------------+------+\n",
            "only showing top 5 rows\n",
            "\n"
          ]
        }
      ]
    },
    {
      "cell_type": "code",
      "source": [
        "df.printSchema()"
      ],
      "metadata": {
        "colab": {
          "base_uri": "https://localhost:8080/"
        },
        "id": "gAS5aGC7CZC7",
        "outputId": "71d5c0a4-0762-49cb-a376-a7f56b07c6e0"
      },
      "execution_count": 11,
      "outputs": [
        {
          "output_type": "stream",
          "name": "stdout",
          "text": [
            "root\n",
            " |-- age: string (nullable = true)\n",
            " |-- workclass: string (nullable = true)\n",
            " |-- fnlwgt: string (nullable = true)\n",
            " |-- education: string (nullable = true)\n",
            " |-- numbers: string (nullable = true)\n",
            " |-- marital: string (nullable = true)\n",
            " |-- occupation: string (nullable = true)\n",
            " |-- relation: string (nullable = true)\n",
            " |-- race: string (nullable = true)\n",
            " |-- gender: string (nullable = true)\n",
            " |-- gain: string (nullable = true)\n",
            " |-- loss: string (nullable = true)\n",
            " |-- hourlypay: string (nullable = true)\n",
            " |-- country: string (nullable = true)\n",
            " |-- income: string (nullable = true)\n",
            "\n"
          ]
        }
      ]
    },
    {
      "cell_type": "code",
      "source": [
        "from pyspark.sql.functions import col\n",
        "new_df=df.withColumn('age',col('age').cast('integer'))"
      ],
      "metadata": {
        "id": "V6BjYxgMDTFM"
      },
      "execution_count": 13,
      "outputs": []
    },
    {
      "cell_type": "code",
      "source": [
        "new_df.printSchema()"
      ],
      "metadata": {
        "colab": {
          "base_uri": "https://localhost:8080/"
        },
        "id": "NZaM2O8bD1cg",
        "outputId": "2ac93fee-5c1d-4736-f954-71f383fb799c"
      },
      "execution_count": 14,
      "outputs": [
        {
          "output_type": "stream",
          "name": "stdout",
          "text": [
            "root\n",
            " |-- age: integer (nullable = true)\n",
            " |-- workclass: string (nullable = true)\n",
            " |-- fnlwgt: string (nullable = true)\n",
            " |-- education: string (nullable = true)\n",
            " |-- numbers: string (nullable = true)\n",
            " |-- marital: string (nullable = true)\n",
            " |-- occupation: string (nullable = true)\n",
            " |-- relation: string (nullable = true)\n",
            " |-- race: string (nullable = true)\n",
            " |-- gender: string (nullable = true)\n",
            " |-- gain: string (nullable = true)\n",
            " |-- loss: string (nullable = true)\n",
            " |-- hourlypay: string (nullable = true)\n",
            " |-- country: string (nullable = true)\n",
            " |-- income: string (nullable = true)\n",
            "\n"
          ]
        }
      ]
    },
    {
      "cell_type": "code",
      "source": [
        "for i in ['fnlwgt','numbers','gain','loss','hourlypay']:\n",
        "  new_df=new_df.withColumn(i,col(i).cast('integer'))"
      ],
      "metadata": {
        "id": "BC1Eju2iD5fs"
      },
      "execution_count": 23,
      "outputs": []
    },
    {
      "cell_type": "code",
      "source": [
        "from pyspark.sql.functions import *\n",
        "new_df.select([count(when(col(c).isNull(),c )).alias(c) for c in new_df.columns]).show()"
      ],
      "metadata": {
        "colab": {
          "base_uri": "https://localhost:8080/"
        },
        "id": "xEXK3gDyEcw-",
        "outputId": "aa6a9caa-5904-40a7-a25a-a644ce8e9277"
      },
      "execution_count": 24,
      "outputs": [
        {
          "output_type": "stream",
          "name": "stdout",
          "text": [
            "+---+---------+------+---------+-------+-------+----------+--------+----+------+----+----+---------+-------+------+\n",
            "|age|workclass|fnlwgt|education|numbers|marital|occupation|relation|race|gender|gain|loss|hourlypay|country|income|\n",
            "+---+---------+------+---------+-------+-------+----------+--------+----+------+----+----+---------+-------+------+\n",
            "|  0|        0|     0|        0|      0|      0|         0|       0|   0|     0|   0|   0|        0|      0|     0|\n",
            "+---+---------+------+---------+-------+-------+----------+--------+----+------+----+----+---------+-------+------+\n",
            "\n"
          ]
        }
      ]
    },
    {
      "cell_type": "code",
      "source": [
        "df.select('workclass').distinct().show()  #null values are present"
      ],
      "metadata": {
        "colab": {
          "base_uri": "https://localhost:8080/"
        },
        "id": "8_D8elikb2gW",
        "outputId": "f68ed5f7-8628-4c6c-df9f-c2efc0bf8c16"
      },
      "execution_count": 25,
      "outputs": [
        {
          "output_type": "stream",
          "name": "stdout",
          "text": [
            "+-----------------+\n",
            "|        workclass|\n",
            "+-----------------+\n",
            "|        State-gov|\n",
            "|      Federal-gov|\n",
            "| Self-emp-not-inc|\n",
            "|        Local-gov|\n",
            "|          Private|\n",
            "|                ?|\n",
            "|     Self-emp-inc|\n",
            "|      Without-pay|\n",
            "|     Never-worked|\n",
            "+-----------------+\n",
            "\n"
          ]
        }
      ]
    },
    {
      "cell_type": "code",
      "source": [
        "df.groupby('workclass').count().show()"
      ],
      "metadata": {
        "colab": {
          "base_uri": "https://localhost:8080/"
        },
        "id": "upZqVxXoE2mD",
        "outputId": "1112cd70-ba17-420d-9638-2cd5a16b45b8"
      },
      "execution_count": 26,
      "outputs": [
        {
          "output_type": "stream",
          "name": "stdout",
          "text": [
            "+-----------------+-----+\n",
            "|        workclass|count|\n",
            "+-----------------+-----+\n",
            "|        State-gov| 1298|\n",
            "|      Federal-gov|  960|\n",
            "| Self-emp-not-inc| 2541|\n",
            "|        Local-gov| 2093|\n",
            "|          Private|22696|\n",
            "|                ?| 1836|\n",
            "|     Self-emp-inc| 1116|\n",
            "|      Without-pay|   14|\n",
            "|     Never-worked|    7|\n",
            "+-----------------+-----+\n",
            "\n"
          ]
        }
      ]
    },
    {
      "cell_type": "code",
      "source": [
        "#replacing the null values\n",
        "df=new_df.replace(' ?',None)"
      ],
      "metadata": {
        "id": "s4hJRk88cD-3"
      },
      "execution_count": 32,
      "outputs": []
    },
    {
      "cell_type": "code",
      "source": [
        "from pyspark.sql.functions import *\n",
        "df.select([count(when(col(c).isNull(),c )).alias(c) for c in df.columns]).show()"
      ],
      "metadata": {
        "colab": {
          "base_uri": "https://localhost:8080/"
        },
        "id": "R7UYlLKzcXTX",
        "outputId": "8f5a874f-5942-43e4-870f-3bbc472a4d05"
      },
      "execution_count": 33,
      "outputs": [
        {
          "output_type": "stream",
          "name": "stdout",
          "text": [
            "+---+---------+------+---------+-------+-------+----------+--------+----+------+----+----+---------+-------+------+\n",
            "|age|workclass|fnlwgt|education|numbers|marital|occupation|relation|race|gender|gain|loss|hourlypay|country|income|\n",
            "+---+---------+------+---------+-------+-------+----------+--------+----+------+----+----+---------+-------+------+\n",
            "|  0|     1836|     0|        0|      0|      0|      1843|       0|   0|     0|   0|   0|        0|    583|     0|\n",
            "+---+---------+------+---------+-------+-------+----------+--------+----+------+----+----+---------+-------+------+\n",
            "\n"
          ]
        }
      ]
    },
    {
      "cell_type": "code",
      "source": [
        "df.groupby('country').count().show()"
      ],
      "metadata": {
        "colab": {
          "base_uri": "https://localhost:8080/"
        },
        "id": "k39_BU0pe1ra",
        "outputId": "a24e3006-6424-4b3a-f96f-c230b217b820"
      },
      "execution_count": 35,
      "outputs": [
        {
          "output_type": "stream",
          "name": "stdout",
          "text": [
            "+-------------------+-----+\n",
            "|            country|count|\n",
            "+-------------------+-----+\n",
            "| Dominican-Republic|   70|\n",
            "|            Ireland|   24|\n",
            "|               Cuba|   95|\n",
            "|          Guatemala|   64|\n",
            "|               Iran|   43|\n",
            "|             Taiwan|   51|\n",
            "|        El-Salvador|  106|\n",
            "|      United-States|29170|\n",
            "|              South|   80|\n",
            "|              Japan|   62|\n",
            "|          Nicaragua|   34|\n",
            "|               NULL|  583|\n",
            "|             Canada|  121|\n",
            "|           Cambodia|   19|\n",
            "|               Laos|   18|\n",
            "|            Germany|  137|\n",
            "|    Trinadad&Tobago|   19|\n",
            "|               Peru|   31|\n",
            "|            Ecuador|   28|\n",
            "|         Yugoslavia|   16|\n",
            "+-------------------+-----+\n",
            "only showing top 20 rows\n",
            "\n"
          ]
        }
      ]
    },
    {
      "cell_type": "code",
      "source": [
        "#using the mode method and filling the null values\n",
        "df=df.fillna('United-States',subset=['country'])"
      ],
      "metadata": {
        "id": "DLnaqZeme1t8"
      },
      "execution_count": 36,
      "outputs": []
    },
    {
      "cell_type": "code",
      "source": [
        "df.groupby('workclass').count().show()"
      ],
      "metadata": {
        "colab": {
          "base_uri": "https://localhost:8080/"
        },
        "id": "QtTH6DjVdKGY",
        "outputId": "20fe5d25-d9e0-4d59-c632-29b608bb1b2d"
      },
      "execution_count": 37,
      "outputs": [
        {
          "output_type": "stream",
          "name": "stdout",
          "text": [
            "+-----------------+-----+\n",
            "|        workclass|count|\n",
            "+-----------------+-----+\n",
            "|        State-gov| 1298|\n",
            "|      Federal-gov|  960|\n",
            "|             NULL| 1836|\n",
            "| Self-emp-not-inc| 2541|\n",
            "|        Local-gov| 2093|\n",
            "|          Private|22696|\n",
            "|     Self-emp-inc| 1116|\n",
            "|      Without-pay|   14|\n",
            "|     Never-worked|    7|\n",
            "+-----------------+-----+\n",
            "\n"
          ]
        }
      ]
    },
    {
      "cell_type": "code",
      "source": [
        "#using the mode method and filling the null values\n",
        "df=df.fillna('Private',subset=['workclass'])"
      ],
      "metadata": {
        "id": "887z4IyXGHuz"
      },
      "execution_count": 38,
      "outputs": []
    },
    {
      "cell_type": "code",
      "source": [
        "df.groupby('occupation').count().show()"
      ],
      "metadata": {
        "colab": {
          "base_uri": "https://localhost:8080/"
        },
        "id": "UP5xffaQfjPm",
        "outputId": "70312887-38b2-403d-bee1-43e8446e3278"
      },
      "execution_count": 39,
      "outputs": [
        {
          "output_type": "stream",
          "name": "stdout",
          "text": [
            "+------------------+-----+\n",
            "|        occupation|count|\n",
            "+------------------+-----+\n",
            "|   Farming-fishing|  994|\n",
            "|              NULL| 1843|\n",
            "| Handlers-cleaners| 1370|\n",
            "|    Prof-specialty| 4140|\n",
            "|      Adm-clerical| 3770|\n",
            "|   Exec-managerial| 4066|\n",
            "|      Craft-repair| 4099|\n",
            "|             Sales| 3650|\n",
            "|      Tech-support|  928|\n",
            "|  Transport-moving| 1597|\n",
            "|   Protective-serv|  649|\n",
            "|      Armed-Forces|    9|\n",
            "| Machine-op-inspct| 2002|\n",
            "|     Other-service| 3295|\n",
            "|   Priv-house-serv|  149|\n",
            "+------------------+-----+\n",
            "\n"
          ]
        }
      ]
    },
    {
      "cell_type": "code",
      "source": [
        "df=df.fillna('Prof-specialty',subset=['occupation'])"
      ],
      "metadata": {
        "id": "Jut8BY54GNG6"
      },
      "execution_count": 40,
      "outputs": []
    },
    {
      "cell_type": "code",
      "source": [
        "new_df.select([count(when(col(c).isNull(),c )).alias(c) for c in new_df.columns]).show()"
      ],
      "metadata": {
        "colab": {
          "base_uri": "https://localhost:8080/"
        },
        "id": "3cQCJv-jGYCl",
        "outputId": "4565b736-8bea-467b-8821-2bfeee5df093"
      },
      "execution_count": 41,
      "outputs": [
        {
          "output_type": "stream",
          "name": "stdout",
          "text": [
            "+---+---------+------+---------+-------+-------+----------+--------+----+------+----+----+---------+-------+------+\n",
            "|age|workclass|fnlwgt|education|numbers|marital|occupation|relation|race|gender|gain|loss|hourlypay|country|income|\n",
            "+---+---------+------+---------+-------+-------+----------+--------+----+------+----+----+---------+-------+------+\n",
            "|  0|        0|     0|        0|      0|      0|         0|       0|   0|     0|   0|   0|        0|      0|     0|\n",
            "+---+---------+------+---------+-------+-------+----------+--------+----+------+----+----+---------+-------+------+\n",
            "\n"
          ]
        }
      ]
    },
    {
      "cell_type": "markdown",
      "source": [
        "#Applying Logistic Regression"
      ],
      "metadata": {
        "id": "TNRFlBWpfxd1"
      }
    },
    {
      "cell_type": "code",
      "source": [
        "from pyspark.ml.classification import LogisticRegression\n",
        "from pyspark.ml import Pipeline\n",
        "from pyspark.ml.feature import VectorAssembler,StringIndexer\n"
      ],
      "metadata": {
        "id": "M_i9U4GwGdjs"
      },
      "execution_count": 42,
      "outputs": []
    },
    {
      "cell_type": "code",
      "source": [
        "df.columns"
      ],
      "metadata": {
        "colab": {
          "base_uri": "https://localhost:8080/"
        },
        "id": "-pZarpCnHIr4",
        "outputId": "a4ca2ba6-06cb-4e7a-a6b5-71180db11640"
      },
      "execution_count": 43,
      "outputs": [
        {
          "output_type": "execute_result",
          "data": {
            "text/plain": [
              "['age',\n",
              " 'workclass',\n",
              " 'fnlwgt',\n",
              " 'education',\n",
              " 'numbers',\n",
              " 'marital',\n",
              " 'occupation',\n",
              " 'relation',\n",
              " 'race',\n",
              " 'gender',\n",
              " 'gain',\n",
              " 'loss',\n",
              " 'hourlypay',\n",
              " 'country',\n",
              " 'income']"
            ]
          },
          "metadata": {},
          "execution_count": 43
        }
      ]
    },
    {
      "cell_type": "code",
      "source": [
        "categorical_cols=['age',\n",
        " 'education',\n",
        " 'marital',\n",
        " 'occupation',\n",
        " 'relation',\n",
        " 'race',\n",
        " 'gender',\n",
        " 'country']\n",
        "\n",
        "numerical_cols=['age','fnlwgt','numbers','gain','loss','hourlypay']\n",
        "label='income'"
      ],
      "metadata": {
        "id": "yclm48kkHOVS"
      },
      "execution_count": 44,
      "outputs": []
    },
    {
      "cell_type": "code",
      "source": [
        "#applying indexer\n",
        "indexer=[StringIndexer(inputCol=c,outputCol=f'{c}_index',handleInvalid='keep') for c in categorical_cols]"
      ],
      "metadata": {
        "id": "C-puqfxOIHUG"
      },
      "execution_count": 45,
      "outputs": []
    },
    {
      "cell_type": "code",
      "source": [
        "label_indexer=StringIndexer(inputCol='income',outputCol='label',handleInvalid='keep')"
      ],
      "metadata": {
        "id": "pDMkIDv5I1KI"
      },
      "execution_count": 46,
      "outputs": []
    },
    {
      "cell_type": "code",
      "source": [
        "assembler=VectorAssembler(inputCols=[f'{c}_index' for c in categorical_cols]+numerical_cols,outputCol='features')"
      ],
      "metadata": {
        "id": "29xlCvTXJEhc"
      },
      "execution_count": 47,
      "outputs": []
    },
    {
      "cell_type": "code",
      "source": [
        "#using logistic regression\n",
        "lr=LogisticRegression(featuresCol='features',labelCol='label')"
      ],
      "metadata": {
        "id": "X3MkyFhQJa3m"
      },
      "execution_count": 48,
      "outputs": []
    },
    {
      "cell_type": "code",
      "source": [
        "pipeline = Pipeline(stages=indexer+[assembler,label_indexer,lr])"
      ],
      "metadata": {
        "id": "JUVI9jcrJmXP"
      },
      "execution_count": 49,
      "outputs": []
    },
    {
      "cell_type": "code",
      "source": [
        "train_data,test_data=df.randomSplit([.8,.2])"
      ],
      "metadata": {
        "id": "TuLhhEvtJvBx"
      },
      "execution_count": 50,
      "outputs": []
    },
    {
      "cell_type": "code",
      "source": [
        "model=pipeline.fit(train_data)"
      ],
      "metadata": {
        "id": "WWQ44AlLKN2o"
      },
      "execution_count": 51,
      "outputs": []
    },
    {
      "cell_type": "code",
      "source": [
        "prediction=model.transform(test_data)"
      ],
      "metadata": {
        "id": "hLGici92KWTz"
      },
      "execution_count": 52,
      "outputs": []
    },
    {
      "cell_type": "code",
      "source": [
        "prediction.show()"
      ],
      "metadata": {
        "id": "73G9rXihKtxQ",
        "colab": {
          "base_uri": "https://localhost:8080/"
        },
        "outputId": "eb574048-94e1-403c-9a98-ece00a68b935"
      },
      "execution_count": 53,
      "outputs": [
        {
          "output_type": "stream",
          "name": "stdout",
          "text": [
            "+---+----------+------+---------+-------+--------------+------------------+---------------+------+-------+----+----+---------+--------------+------+---------+---------------+-------------+----------------+--------------+----------+------------+-------------+--------------------+-----+--------------------+--------------------+----------+\n",
            "|age| workclass|fnlwgt|education|numbers|       marital|        occupation|       relation|  race| gender|gain|loss|hourlypay|       country|income|age_index|education_index|marital_index|occupation_index|relation_index|race_index|gender_index|country_index|            features|label|       rawPrediction|         probability|prediction|\n",
            "+---+----------+------+---------+-------+--------------+------------------+---------------+------+-------+----+----+---------+--------------+------+---------+---------------+-------------+----------------+--------------+----------+------------+-------------+--------------------+-----+--------------------+--------------------+----------+\n",
            "| 17| Local-gov| 32124|      9th|      5| Never-married|     Other-service|      Own-child| Black|   Male|   0|   0|        9| United-States| <=50K|     38.0|           10.0|          1.0|             5.0|           2.0|       1.0|         0.0|          0.0|[38.0,10.0,1.0,5....|  0.0|[9.25373254118539...|[0.99955110784886...|       0.0|\n",
            "| 17| Local-gov|246308|     11th|      7| Never-married|    Prof-specialty|      Own-child| White| Female|   0|   0|       20|   Puerto-Rico| <=50K|     38.0|            5.0|          1.0|             0.0|           2.0|       0.0|         1.0|          6.0|[38.0,5.0,1.0,0.0...|  0.0|[8.94811507875358...|[0.99866784570340...|       0.0|\n",
            "| 17|   Private| 29571|     12th|      8| Never-married| Handlers-cleaners|      Own-child| White|   Male|   0|   0|       15| United-States| <=50K|     38.0|           11.0|          1.0|             9.0|           2.0|       0.0|         0.0|          0.0|[38.0,11.0,1.0,9....|  0.0|[8.88175382399272...|[0.99869456444974...|       0.0|\n",
            "| 17|   Private| 32763|     10th|      6| Never-married|     Other-service|      Own-child| White|   Male|   0|   0|       15| United-States| <=50K|     38.0|            7.0|          1.0|             5.0|           2.0|       0.0|         0.0|          0.0|[38.0,7.0,1.0,5.0...|  0.0|[8.97253342645475...|[0.99908923068049...|       0.0|\n",
            "| 17|   Private| 33138|     12th|      8| Never-married|             Sales|      Own-child| White|   Male|   0|   0|       40| United-States| <=50K|     38.0|           11.0|          1.0|             4.0|           2.0|       0.0|         0.0|          0.0|[38.0,11.0,1.0,4....|  0.0|[8.38522283262393...|[0.99613709584704...|       0.0|\n",
            "| 17|   Private| 36877|     10th|      6| Never-married|             Sales|      Own-child| White| Female|   0|   0|       10| United-States| <=50K|     38.0|            7.0|          1.0|             4.0|           2.0|       0.0|         1.0|          0.0|[38.0,7.0,1.0,4.0...|  0.0|[9.32148277380185...|[0.99947797218936...|       0.0|\n",
            "| 17|   Private| 38611|     11th|      7| Never-married|      Adm-clerical|      Own-child| White| Female|   0|   0|       23| United-States| <=50K|     38.0|            5.0|          1.0|             3.0|           2.0|       0.0|         1.0|          0.0|[38.0,5.0,1.0,3.0...|  0.0|[9.01718910542238...|[0.99884124455431...|       0.0|\n",
            "| 17|   Private| 46402|  7th-8th|      4| Never-married|             Sales|      Own-child| White|   Male|   0|   0|        8| United-States| <=50K|     38.0|            8.0|          1.0|             4.0|           2.0|       0.0|         0.0|          0.0|[38.0,8.0,1.0,4.0...|  0.0|[9.25456378142504...|[0.99958608646221...|       0.0|\n",
            "| 17|   Private| 53367|      9th|      5| Never-married|     Other-service|      Own-child| White| Female|   0|   0|       35| United-States| <=50K|     38.0|           10.0|          1.0|             5.0|           2.0|       0.0|         1.0|          0.0|[38.0,10.0,1.0,5....|  0.0|[9.22516242900644...|[0.99922186635424...|       0.0|\n",
            "| 17|   Private| 57723|     11th|      7| Never-married|             Sales|      Own-child| White|   Male|   0|   0|       30| United-States| <=50K|     38.0|            5.0|          1.0|             4.0|           2.0|       0.0|         0.0|          0.0|[38.0,5.0,1.0,4.0...|  0.0|[8.64627148486627...|[0.99782165321627...|       0.0|\n",
            "| 17|   Private| 60562|      9th|      5| Never-married|     Other-service|      Own-child| White| Female|   0|   0|       20| United-States| <=50K|     38.0|           10.0|          1.0|             5.0|           2.0|       0.0|         1.0|          0.0|[38.0,10.0,1.0,5....|  0.0|[9.38076950079404...|[0.99951240986880...|       0.0|\n",
            "| 17|   Private| 65368|     11th|      7| Never-married|             Sales|      Own-child| White| Female|   0|   0|       12| United-States| <=50K|     38.0|            5.0|          1.0|             4.0|           2.0|       0.0|         1.0|          0.0|[38.0,5.0,1.0,4.0...|  0.0|[9.17749692361654...|[0.99921628847669...|       0.0|\n",
            "| 17|   Private| 70868|     11th|      7| Never-married|      Craft-repair|      Own-child| White|   Male|   0|   0|       16| United-States| <=50K|     38.0|            5.0|          1.0|             1.0|           2.0|       0.0|         0.0|          0.0|[38.0,5.0,1.0,1.0...|  0.0|[8.64933987468945...|[0.99830832003858...|       0.0|\n",
            "| 17|   Private| 78602|     11th|      7| Never-married|     Other-service| Other-relative| White| Female|   0|   0|       20| United-States| <=50K|     38.0|            5.0|          1.0|             5.0|           5.0|       0.0|         1.0|          0.0|[38.0,5.0,1.0,5.0...|  0.0|[9.44734314291433...|[0.99882599794950...|       0.0|\n",
            "| 17|   Private| 79682|     10th|      6| Never-married|   Priv-house-serv| Other-relative| White|   Male|   0|   0|       30| United-States| <=50K|     38.0|            7.0|          1.0|            13.0|           5.0|       0.0|         0.0|          0.0|[38.0,7.0,1.0,13....|  0.0|[9.49885427237083...|[0.99886181805621...|       0.0|\n",
            "| 17|   Private| 82041|     11th|      7| Never-married| Handlers-cleaners|      Own-child| White|   Male|   0|   0|       40|        Canada| <=50K|     38.0|            5.0|          1.0|             9.0|           2.0|       0.0|         0.0|          5.0|[38.0,5.0,1.0,9.0...|  0.0|[8.82084377283742...|[0.99786378821498...|       0.0|\n",
            "| 17|   Private| 89821|     11th|      7| Never-married|     Other-service|      Own-child| White|   Male|   0|   0|       10| United-States| <=50K|     38.0|            5.0|          1.0|             5.0|           2.0|       0.0|         0.0|          0.0|[38.0,5.0,1.0,5.0...|  0.0|[8.89989186358857...|[0.99888582461768...|       0.0|\n",
            "| 17|   Private| 95909|     11th|      7| Never-married| Handlers-cleaners|      Own-child| White|   Male|   0|   0|       12| United-States| <=50K|     38.0|            5.0|          1.0|             9.0|           2.0|       0.0|         0.0|          0.0|[38.0,5.0,1.0,9.0...|  0.0|[9.06790905168497...|[0.99906318496622...|       0.0|\n",
            "| 17|   Private| 98005|     11th|      7| Never-married|             Sales|      Own-child| White| Female|   0|   0|       16| United-States| <=50K|     38.0|            5.0|          1.0|             4.0|           2.0|       0.0|         1.0|          0.0|[38.0,5.0,1.0,4.0...|  0.0|[9.13425763730726...|[0.99909575014011...|       0.0|\n",
            "| 17|   Private| 98675|      9th|      5| Never-married|     Other-service|      Unmarried| White| Female|   0|   0|       20| United-States| <=50K|     38.0|           10.0|          1.0|             5.0|           3.0|       0.0|         1.0|          0.0|[38.0,10.0,1.0,5....|  0.0|[9.48098527313441...|[0.99946705554516...|       0.0|\n",
            "+---+----------+------+---------+-------+--------------+------------------+---------------+------+-------+----+----+---------+--------------+------+---------+---------------+-------------+----------------+--------------+----------+------------+-------------+--------------------+-----+--------------------+--------------------+----------+\n",
            "only showing top 20 rows\n",
            "\n"
          ]
        }
      ]
    },
    {
      "cell_type": "code",
      "source": [
        "prediction.select('label','prediction').show()"
      ],
      "metadata": {
        "id": "Kcn6GR9JKtz7",
        "colab": {
          "base_uri": "https://localhost:8080/"
        },
        "outputId": "c4640f55-1a19-4319-c56f-3d0ac92b9f6a"
      },
      "execution_count": 54,
      "outputs": [
        {
          "output_type": "stream",
          "name": "stdout",
          "text": [
            "+-----+----------+\n",
            "|label|prediction|\n",
            "+-----+----------+\n",
            "|  0.0|       0.0|\n",
            "|  0.0|       0.0|\n",
            "|  0.0|       0.0|\n",
            "|  0.0|       0.0|\n",
            "|  0.0|       0.0|\n",
            "|  0.0|       0.0|\n",
            "|  0.0|       0.0|\n",
            "|  0.0|       0.0|\n",
            "|  0.0|       0.0|\n",
            "|  0.0|       0.0|\n",
            "|  0.0|       0.0|\n",
            "|  0.0|       0.0|\n",
            "|  0.0|       0.0|\n",
            "|  0.0|       0.0|\n",
            "|  0.0|       0.0|\n",
            "|  0.0|       0.0|\n",
            "|  0.0|       0.0|\n",
            "|  0.0|       0.0|\n",
            "|  0.0|       0.0|\n",
            "|  0.0|       0.0|\n",
            "+-----+----------+\n",
            "only showing top 20 rows\n",
            "\n"
          ]
        }
      ]
    },
    {
      "cell_type": "code",
      "source": [
        "prediction.select('label','prediction').distinct().show()"
      ],
      "metadata": {
        "id": "94BDjcQ-Kt26",
        "colab": {
          "base_uri": "https://localhost:8080/"
        },
        "outputId": "d19777c7-4da9-4b69-fd88-3d9a5fdf03b5"
      },
      "execution_count": 55,
      "outputs": [
        {
          "output_type": "stream",
          "name": "stdout",
          "text": [
            "+-----+----------+\n",
            "|label|prediction|\n",
            "+-----+----------+\n",
            "|  1.0|       1.0|\n",
            "|  0.0|       1.0|\n",
            "|  1.0|       0.0|\n",
            "|  0.0|       0.0|\n",
            "+-----+----------+\n",
            "\n"
          ]
        }
      ]
    },
    {
      "cell_type": "code",
      "source": [
        "prediction.groupby('label','prediction').count().show()"
      ],
      "metadata": {
        "colab": {
          "base_uri": "https://localhost:8080/"
        },
        "id": "chlR6BQWhia1",
        "outputId": "7a17f9c8-b078-407b-d292-ce628542498e"
      },
      "execution_count": 56,
      "outputs": [
        {
          "output_type": "stream",
          "name": "stdout",
          "text": [
            "+-----+----------+-----+\n",
            "|label|prediction|count|\n",
            "+-----+----------+-----+\n",
            "|  1.0|       1.0|  806|\n",
            "|  0.0|       1.0|  344|\n",
            "|  1.0|       0.0|  739|\n",
            "|  0.0|       0.0| 4685|\n",
            "+-----+----------+-----+\n",
            "\n"
          ]
        }
      ]
    },
    {
      "cell_type": "code",
      "source": [
        " #evaluating the data\n",
        "from pyspark.ml.evaluation import MulticlassClassificationEvaluator\n",
        "\n",
        "evaluator=MulticlassClassificationEvaluator(predictionCol='prediction',labelCol='label',metricName='accuracy')"
      ],
      "metadata": {
        "id": "R6uD8WhFKt44"
      },
      "execution_count": 57,
      "outputs": []
    },
    {
      "cell_type": "code",
      "source": [
        "evaluator.evaluate(prediction)\n"
      ],
      "metadata": {
        "id": "aktIzyCEKt8y",
        "colab": {
          "base_uri": "https://localhost:8080/"
        },
        "outputId": "8f40e44b-80ef-42c6-c51e-37f89d8802a9"
      },
      "execution_count": 58,
      "outputs": [
        {
          "output_type": "execute_result",
          "data": {
            "text/plain": [
              "0.8352601156069365"
            ]
          },
          "metadata": {},
          "execution_count": 58
        }
      ]
    },
    {
      "cell_type": "markdown",
      "source": [
        "The accuracy was found to be 84% on the testing data"
      ],
      "metadata": {
        "id": "zw6kBCvDhsm-"
      }
    },
    {
      "cell_type": "code",
      "source": [],
      "metadata": {
        "id": "PjVSg7_cKt-5"
      },
      "execution_count": null,
      "outputs": []
    },
    {
      "cell_type": "code",
      "source": [],
      "metadata": {
        "id": "ibpp3S8qKuDf"
      },
      "execution_count": null,
      "outputs": []
    },
    {
      "cell_type": "code",
      "source": [],
      "metadata": {
        "id": "HKW-zNasS58I"
      },
      "execution_count": null,
      "outputs": []
    },
    {
      "cell_type": "code",
      "source": [],
      "metadata": {
        "id": "-qEZZBngS6Mi"
      },
      "execution_count": null,
      "outputs": []
    },
    {
      "cell_type": "code",
      "source": [],
      "metadata": {
        "id": "qJ1cGV4SS6VR"
      },
      "execution_count": null,
      "outputs": []
    },
    {
      "cell_type": "code",
      "source": [],
      "metadata": {
        "id": "z7UzvNWbS6dP"
      },
      "execution_count": null,
      "outputs": []
    },
    {
      "cell_type": "code",
      "source": [],
      "metadata": {
        "id": "TIEOp_BES6lQ"
      },
      "execution_count": null,
      "outputs": []
    },
    {
      "cell_type": "code",
      "source": [],
      "metadata": {
        "id": "yKEDHI_AS6nm"
      },
      "execution_count": null,
      "outputs": []
    },
    {
      "cell_type": "code",
      "source": [],
      "metadata": {
        "id": "4JKtwHg3S7CA"
      },
      "execution_count": null,
      "outputs": []
    },
    {
      "cell_type": "code",
      "source": [],
      "metadata": {
        "id": "TIpJGAcpS7F9"
      },
      "execution_count": null,
      "outputs": []
    },
    {
      "cell_type": "code",
      "source": [],
      "metadata": {
        "id": "FdlCQzGuS7Id"
      },
      "execution_count": null,
      "outputs": []
    },
    {
      "cell_type": "code",
      "source": [],
      "metadata": {
        "id": "NvulhAx6S7NQ"
      },
      "execution_count": null,
      "outputs": []
    },
    {
      "cell_type": "code",
      "source": [],
      "metadata": {
        "id": "AyQQf3a3S7QH"
      },
      "execution_count": null,
      "outputs": []
    },
    {
      "cell_type": "code",
      "source": [],
      "metadata": {
        "id": "lSg8wQktS7Tb"
      },
      "execution_count": null,
      "outputs": []
    },
    {
      "cell_type": "code",
      "source": [],
      "metadata": {
        "id": "gOdwsOPeS7WJ"
      },
      "execution_count": null,
      "outputs": []
    },
    {
      "cell_type": "code",
      "source": [],
      "metadata": {
        "id": "kwRccJyUS7ZP"
      },
      "execution_count": null,
      "outputs": []
    }
  ]
}