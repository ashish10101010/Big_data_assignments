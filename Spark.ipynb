{
  "nbformat": 4,
  "nbformat_minor": 0,
  "metadata": {
    "colab": {
      "provenance": []
    },
    "kernelspec": {
      "name": "python3",
      "display_name": "Python 3"
    },
    "language_info": {
      "name": "python"
    }
  },
  "cells": [
    {
      "cell_type": "code",
      "source": [
        "!pip install pyspark"
      ],
      "metadata": {
        "colab": {
          "base_uri": "https://localhost:8080/"
        },
        "id": "bEhRNieY1YST",
        "outputId": "8d10a0ed-b6af-48f3-e604-aba23fe20c1a"
      },
      "execution_count": 1,
      "outputs": [
        {
          "output_type": "stream",
          "name": "stdout",
          "text": [
            "Collecting pyspark\n",
            "  Downloading pyspark-3.5.1.tar.gz (317.0 MB)\n",
            "\u001b[2K     \u001b[90m━━━━━━━━━━━━━━━━━━━━━━━━━━━━━━━━━━━━━━━━\u001b[0m \u001b[32m317.0/317.0 MB\u001b[0m \u001b[31m4.4 MB/s\u001b[0m eta \u001b[36m0:00:00\u001b[0m\n",
            "\u001b[?25h  Preparing metadata (setup.py) ... \u001b[?25l\u001b[?25hdone\n",
            "Requirement already satisfied: py4j==0.10.9.7 in /usr/local/lib/python3.10/dist-packages (from pyspark) (0.10.9.7)\n",
            "Building wheels for collected packages: pyspark\n",
            "  Building wheel for pyspark (setup.py) ... \u001b[?25l\u001b[?25hdone\n",
            "  Created wheel for pyspark: filename=pyspark-3.5.1-py2.py3-none-any.whl size=317488491 sha256=dead180adb0c7017e810b1b35dbd9402028b3636521860724348dacb747d550f\n",
            "  Stored in directory: /root/.cache/pip/wheels/80/1d/60/2c256ed38dddce2fdd93be545214a63e02fbd8d74fb0b7f3a6\n",
            "Successfully built pyspark\n",
            "Installing collected packages: pyspark\n",
            "Successfully installed pyspark-3.5.1\n"
          ]
        }
      ]
    },
    {
      "cell_type": "code",
      "source": [
        "import pyspark\n",
        "from pyspark.sql import SparkSession"
      ],
      "metadata": {
        "id": "kKhQVmww1TYj"
      },
      "execution_count": 2,
      "outputs": []
    },
    {
      "cell_type": "code",
      "source": [
        "# Create a Spark session\n",
        "spark = SparkSession.builder.appName(\"crew_requirements\").getOrCreate()\n"
      ],
      "metadata": {
        "id": "yJcgqI9n1eut"
      },
      "execution_count": 3,
      "outputs": []
    },
    {
      "cell_type": "code",
      "source": [
        "df=spark.read.csv('/content/cruise_ship_info.csv',inferSchema=True,header=True)"
      ],
      "metadata": {
        "id": "8NRbEhgL13zp"
      },
      "execution_count": 4,
      "outputs": []
    },
    {
      "cell_type": "code",
      "source": [
        "df.show(5)"
      ],
      "metadata": {
        "colab": {
          "base_uri": "https://localhost:8080/"
        },
        "id": "pV-vHLZf2mpl",
        "outputId": "334e8fdf-7545-4244-8193-542d933bdfd6"
      },
      "execution_count": 5,
      "outputs": [
        {
          "output_type": "stream",
          "name": "stdout",
          "text": [
            "+-----------+-----------+---+------------------+----------+------+------+-----------------+----+\n",
            "|  Ship_name|Cruise_line|Age|           Tonnage|passengers|length|cabins|passenger_density|crew|\n",
            "+-----------+-----------+---+------------------+----------+------+------+-----------------+----+\n",
            "|    Journey|    Azamara|  6|30.276999999999997|      6.94|  5.94|  3.55|            42.64|3.55|\n",
            "|      Quest|    Azamara|  6|30.276999999999997|      6.94|  5.94|  3.55|            42.64|3.55|\n",
            "|Celebration|   Carnival| 26|            47.262|     14.86|  7.22|  7.43|             31.8| 6.7|\n",
            "|   Conquest|   Carnival| 11|             110.0|     29.74|  9.53| 14.88|            36.99|19.1|\n",
            "|    Destiny|   Carnival| 17|           101.353|     26.42|  8.92| 13.21|            38.36|10.0|\n",
            "+-----------+-----------+---+------------------+----------+------+------+-----------------+----+\n",
            "only showing top 5 rows\n",
            "\n"
          ]
        }
      ]
    },
    {
      "cell_type": "code",
      "source": [
        "df.printSchema()"
      ],
      "metadata": {
        "colab": {
          "base_uri": "https://localhost:8080/"
        },
        "id": "08kXZ3CO2ypT",
        "outputId": "76f0dc2c-6cb3-4523-dccc-6817c28b0a5c"
      },
      "execution_count": 6,
      "outputs": [
        {
          "output_type": "stream",
          "name": "stdout",
          "text": [
            "root\n",
            " |-- Ship_name: string (nullable = true)\n",
            " |-- Cruise_line: string (nullable = true)\n",
            " |-- Age: integer (nullable = true)\n",
            " |-- Tonnage: double (nullable = true)\n",
            " |-- passengers: double (nullable = true)\n",
            " |-- length: double (nullable = true)\n",
            " |-- cabins: double (nullable = true)\n",
            " |-- passenger_density: double (nullable = true)\n",
            " |-- crew: double (nullable = true)\n",
            "\n"
          ]
        }
      ]
    },
    {
      "cell_type": "code",
      "source": [
        "from pyspark.ml.feature import StringIndexer\n",
        "indexer=StringIndexer(inputCol='Cruise_line',outputCol='Cruise_line_index')\n",
        "\n",
        "df_indexed=indexer.fit(df).transform(df)"
      ],
      "metadata": {
        "id": "Bs35fDuN225h"
      },
      "execution_count": 7,
      "outputs": []
    },
    {
      "cell_type": "code",
      "source": [
        "df_indexed.show(10)"
      ],
      "metadata": {
        "colab": {
          "base_uri": "https://localhost:8080/"
        },
        "id": "pBZPufJq4CeU",
        "outputId": "d7287b7a-d3c3-41e3-96eb-a142383454b7"
      },
      "execution_count": 8,
      "outputs": [
        {
          "output_type": "stream",
          "name": "stdout",
          "text": [
            "+-----------+-----------+---+------------------+----------+------+------+-----------------+----+-----------------+\n",
            "|  Ship_name|Cruise_line|Age|           Tonnage|passengers|length|cabins|passenger_density|crew|Cruise_line_index|\n",
            "+-----------+-----------+---+------------------+----------+------+------+-----------------+----+-----------------+\n",
            "|    Journey|    Azamara|  6|30.276999999999997|      6.94|  5.94|  3.55|            42.64|3.55|             16.0|\n",
            "|      Quest|    Azamara|  6|30.276999999999997|      6.94|  5.94|  3.55|            42.64|3.55|             16.0|\n",
            "|Celebration|   Carnival| 26|            47.262|     14.86|  7.22|  7.43|             31.8| 6.7|              1.0|\n",
            "|   Conquest|   Carnival| 11|             110.0|     29.74|  9.53| 14.88|            36.99|19.1|              1.0|\n",
            "|    Destiny|   Carnival| 17|           101.353|     26.42|  8.92| 13.21|            38.36|10.0|              1.0|\n",
            "|    Ecstasy|   Carnival| 22|            70.367|     20.52|  8.55|  10.2|            34.29| 9.2|              1.0|\n",
            "|    Elation|   Carnival| 15|            70.367|     20.52|  8.55|  10.2|            34.29| 9.2|              1.0|\n",
            "|    Fantasy|   Carnival| 23|            70.367|     20.56|  8.55| 10.22|            34.23| 9.2|              1.0|\n",
            "|Fascination|   Carnival| 19|            70.367|     20.52|  8.55|  10.2|            34.29| 9.2|              1.0|\n",
            "|    Freedom|   Carnival|  6|110.23899999999999|      37.0|  9.51| 14.87|            29.79|11.5|              1.0|\n",
            "+-----------+-----------+---+------------------+----------+------+------+-----------------+----+-----------------+\n",
            "only showing top 10 rows\n",
            "\n"
          ]
        }
      ]
    },
    {
      "cell_type": "code",
      "source": [
        "df_indexed.select('Cruise_line','Cruise_line_index').distinct().show()"
      ],
      "metadata": {
        "colab": {
          "base_uri": "https://localhost:8080/"
        },
        "id": "8g4k3LQf4H3C",
        "outputId": "94d53dd0-de7a-44ad-d7c9-9dbc8cc608ea"
      },
      "execution_count": 9,
      "outputs": [
        {
          "output_type": "stream",
          "name": "stdout",
          "text": [
            "+-----------------+-----------------+\n",
            "|      Cruise_line|Cruise_line_index|\n",
            "+-----------------+-----------------+\n",
            "|            Costa|              5.0|\n",
            "|        Norwegian|              4.0|\n",
            "|              MSC|              7.0|\n",
            "|           Orient|             19.0|\n",
            "|Regent_Seven_Seas|             10.0|\n",
            "|           Disney|             18.0|\n",
            "|         Windstar|             15.0|\n",
            "|              P&O|              8.0|\n",
            "|  Royal_Caribbean|              0.0|\n",
            "|         Seabourn|             14.0|\n",
            "|             Star|              9.0|\n",
            "|         Princess|              2.0|\n",
            "|          Oceania|             13.0|\n",
            "|          Azamara|             16.0|\n",
            "| Holland_American|              3.0|\n",
            "|           Cunard|             12.0|\n",
            "|        Celebrity|              6.0|\n",
            "|        Silversea|             11.0|\n",
            "|          Crystal|             17.0|\n",
            "|         Carnival|              1.0|\n",
            "+-----------------+-----------------+\n",
            "\n"
          ]
        }
      ]
    },
    {
      "cell_type": "code",
      "source": [
        "df_indexed.groupby('Cruise_line').count().show()"
      ],
      "metadata": {
        "colab": {
          "base_uri": "https://localhost:8080/"
        },
        "id": "_6d6DHtd4dU6",
        "outputId": "d8ac51cf-583b-4013-eaa2-246878cc1abb"
      },
      "execution_count": 10,
      "outputs": [
        {
          "output_type": "stream",
          "name": "stdout",
          "text": [
            "+-----------------+-----+\n",
            "|      Cruise_line|count|\n",
            "+-----------------+-----+\n",
            "|            Costa|   11|\n",
            "|              P&O|    6|\n",
            "|           Cunard|    3|\n",
            "|Regent_Seven_Seas|    5|\n",
            "|              MSC|    8|\n",
            "|         Carnival|   22|\n",
            "|          Crystal|    2|\n",
            "|           Orient|    1|\n",
            "|         Princess|   17|\n",
            "|        Silversea|    4|\n",
            "|         Seabourn|    3|\n",
            "| Holland_American|   14|\n",
            "|         Windstar|    3|\n",
            "|           Disney|    2|\n",
            "|        Norwegian|   13|\n",
            "|          Oceania|    3|\n",
            "|          Azamara|    2|\n",
            "|        Celebrity|   10|\n",
            "|             Star|    6|\n",
            "|  Royal_Caribbean|   23|\n",
            "+-----------------+-----+\n",
            "\n"
          ]
        }
      ]
    },
    {
      "cell_type": "code",
      "source": [
        "df_indexed.columns"
      ],
      "metadata": {
        "colab": {
          "base_uri": "https://localhost:8080/"
        },
        "id": "QnREpM-F5YMK",
        "outputId": "06cbb949-5cf7-43ff-cdde-88cd90312bc8"
      },
      "execution_count": 11,
      "outputs": [
        {
          "output_type": "execute_result",
          "data": {
            "text/plain": [
              "['Ship_name',\n",
              " 'Cruise_line',\n",
              " 'Age',\n",
              " 'Tonnage',\n",
              " 'passengers',\n",
              " 'length',\n",
              " 'cabins',\n",
              " 'passenger_density',\n",
              " 'crew',\n",
              " 'Cruise_line_index']"
            ]
          },
          "metadata": {},
          "execution_count": 11
        }
      ]
    },
    {
      "cell_type": "code",
      "source": [
        "from pyspark.ml.feature import VectorAssembler\n",
        "\n",
        "assembler=VectorAssembler(inputCols=['Age',\n",
        "'Tonnage',\n",
        "'passengers',\n",
        "'length',\n",
        "'cabins',\n",
        "'passenger_density',\n",
        "'crew',\n",
        "'Cruise_line_index'],outputCol='features')\n",
        "\n",
        "output=assembler.transform(df_indexed)\n"
      ],
      "metadata": {
        "id": "vg8L2hc25gdx"
      },
      "execution_count": 12,
      "outputs": []
    },
    {
      "cell_type": "code",
      "source": [
        "output.show()"
      ],
      "metadata": {
        "colab": {
          "base_uri": "https://localhost:8080/"
        },
        "id": "kXyBRC-F6ij1",
        "outputId": "a7510967-09ad-4dcd-ed20-bc600d793f7f"
      },
      "execution_count": 13,
      "outputs": [
        {
          "output_type": "stream",
          "name": "stdout",
          "text": [
            "+-----------+-----------+---+------------------+----------+------+------+-----------------+----+-----------------+--------------------+\n",
            "|  Ship_name|Cruise_line|Age|           Tonnage|passengers|length|cabins|passenger_density|crew|Cruise_line_index|            features|\n",
            "+-----------+-----------+---+------------------+----------+------+------+-----------------+----+-----------------+--------------------+\n",
            "|    Journey|    Azamara|  6|30.276999999999997|      6.94|  5.94|  3.55|            42.64|3.55|             16.0|[6.0,30.276999999...|\n",
            "|      Quest|    Azamara|  6|30.276999999999997|      6.94|  5.94|  3.55|            42.64|3.55|             16.0|[6.0,30.276999999...|\n",
            "|Celebration|   Carnival| 26|            47.262|     14.86|  7.22|  7.43|             31.8| 6.7|              1.0|[26.0,47.262,14.8...|\n",
            "|   Conquest|   Carnival| 11|             110.0|     29.74|  9.53| 14.88|            36.99|19.1|              1.0|[11.0,110.0,29.74...|\n",
            "|    Destiny|   Carnival| 17|           101.353|     26.42|  8.92| 13.21|            38.36|10.0|              1.0|[17.0,101.353,26....|\n",
            "|    Ecstasy|   Carnival| 22|            70.367|     20.52|  8.55|  10.2|            34.29| 9.2|              1.0|[22.0,70.367,20.5...|\n",
            "|    Elation|   Carnival| 15|            70.367|     20.52|  8.55|  10.2|            34.29| 9.2|              1.0|[15.0,70.367,20.5...|\n",
            "|    Fantasy|   Carnival| 23|            70.367|     20.56|  8.55| 10.22|            34.23| 9.2|              1.0|[23.0,70.367,20.5...|\n",
            "|Fascination|   Carnival| 19|            70.367|     20.52|  8.55|  10.2|            34.29| 9.2|              1.0|[19.0,70.367,20.5...|\n",
            "|    Freedom|   Carnival|  6|110.23899999999999|      37.0|  9.51| 14.87|            29.79|11.5|              1.0|[6.0,110.23899999...|\n",
            "|      Glory|   Carnival| 10|             110.0|     29.74|  9.51| 14.87|            36.99|11.6|              1.0|[10.0,110.0,29.74...|\n",
            "|    Holiday|   Carnival| 28|            46.052|     14.52|  7.27|  7.26|            31.72| 6.6|              1.0|[28.0,46.052,14.5...|\n",
            "|Imagination|   Carnival| 18|            70.367|     20.52|  8.55|  10.2|            34.29| 9.2|              1.0|[18.0,70.367,20.5...|\n",
            "|Inspiration|   Carnival| 17|            70.367|     20.52|  8.55|  10.2|            34.29| 9.2|              1.0|[17.0,70.367,20.5...|\n",
            "|     Legend|   Carnival| 11|              86.0|     21.24|  9.63| 10.62|            40.49| 9.3|              1.0|[11.0,86.0,21.24,...|\n",
            "|   Liberty*|   Carnival|  8|             110.0|     29.74|  9.51| 14.87|            36.99|11.6|              1.0|[8.0,110.0,29.74,...|\n",
            "|    Miracle|   Carnival|  9|              88.5|     21.24|  9.63| 10.62|            41.67|10.3|              1.0|[9.0,88.5,21.24,9...|\n",
            "|   Paradise|   Carnival| 15|            70.367|     20.52|  8.55|  10.2|            34.29| 9.2|              1.0|[15.0,70.367,20.5...|\n",
            "|      Pride|   Carnival| 12|              88.5|     21.24|  9.63| 11.62|            41.67| 9.3|              1.0|[12.0,88.5,21.24,...|\n",
            "|  Sensation|   Carnival| 20|            70.367|     20.52|  8.55|  10.2|            34.29| 9.2|              1.0|[20.0,70.367,20.5...|\n",
            "+-----------+-----------+---+------------------+----------+------+------+-----------------+----+-----------------+--------------------+\n",
            "only showing top 20 rows\n",
            "\n"
          ]
        }
      ]
    },
    {
      "cell_type": "code",
      "source": [
        "train_data,test_data=output.randomSplit([.8,.2])\n",
        "train_data.describe().show()"
      ],
      "metadata": {
        "colab": {
          "base_uri": "https://localhost:8080/"
        },
        "id": "tk1h6t2w6lXG",
        "outputId": "6062b7ce-ef8e-40cd-ac6c-224c1917f591"
      },
      "execution_count": 14,
      "outputs": [
        {
          "output_type": "stream",
          "name": "stdout",
          "text": [
            "+-------+---------+-----------+------------------+------------------+-----------------+------------------+-----------------+-----------------+------------------+-----------------+\n",
            "|summary|Ship_name|Cruise_line|               Age|           Tonnage|       passengers|            length|           cabins|passenger_density|              crew|Cruise_line_index|\n",
            "+-------+---------+-----------+------------------+------------------+-----------------+------------------+-----------------+-----------------+------------------+-----------------+\n",
            "|  count|      119|        119|               119|               119|              119|               119|              119|              119|               119|              119|\n",
            "|   mean| Infinity|       NULL|15.865546218487395| 69.93369747899162|18.39512605042017| 8.076302521008401|8.767310924369752|39.13453781512604| 7.693781512605046|4.983193277310924|\n",
            "| stddev|     NULL|       NULL| 7.857765639364967|36.029637418629065|9.542693616952578|1.7422714890635618|4.375171802433803|8.607521518495002|3.3396759691588875|4.479677639123477|\n",
            "|    min|  Allegra|    Azamara|                 4|             2.329|             0.66|               2.8|             0.33|             17.7|              0.59|              0.0|\n",
            "|    max|Zuiderdam|   Windstar|                48|             220.0|             54.0|             11.82|             27.0|            71.43|              21.0|             19.0|\n",
            "+-------+---------+-----------+------------------+------------------+-----------------+------------------+-----------------+-----------------+------------------+-----------------+\n",
            "\n"
          ]
        }
      ]
    },
    {
      "cell_type": "code",
      "source": [
        "from pyspark.ml.regression import LinearRegression\n",
        "crew_req=LinearRegression(featuresCol='features',labelCol='crew')\n",
        "\n",
        "model=crew_req.fit(train_data)"
      ],
      "metadata": {
        "id": "UQH9fwuk63ml"
      },
      "execution_count": 15,
      "outputs": []
    },
    {
      "cell_type": "code",
      "source": [
        "result=model.evaluate(train_data)"
      ],
      "metadata": {
        "id": "TSqPyqRI7Z0B"
      },
      "execution_count": 16,
      "outputs": []
    },
    {
      "cell_type": "code",
      "source": [
        "result.r2"
      ],
      "metadata": {
        "colab": {
          "base_uri": "https://localhost:8080/"
        },
        "id": "pnp1osyF7lcs",
        "outputId": "d7097156-6408-478e-adca-92a1a1e254b2"
      },
      "execution_count": 17,
      "outputs": [
        {
          "output_type": "execute_result",
          "data": {
            "text/plain": [
              "1.0"
            ]
          },
          "metadata": {},
          "execution_count": 17
        }
      ]
    },
    {
      "cell_type": "code",
      "source": [
        "pred=model.transform(test_data)"
      ],
      "metadata": {
        "id": "4V26PeMW7mm5"
      },
      "execution_count": 18,
      "outputs": []
    },
    {
      "cell_type": "code",
      "source": [
        "result_test=model.evaluate(test_data)"
      ],
      "metadata": {
        "id": "Z3Eumujh7wam"
      },
      "execution_count": 19,
      "outputs": []
    },
    {
      "cell_type": "code",
      "source": [
        "result_test.r2"
      ],
      "metadata": {
        "colab": {
          "base_uri": "https://localhost:8080/"
        },
        "id": "rB8ags4G70Wd",
        "outputId": "9af699ee-97a9-4be5-a1ac-d7da680c2c2a"
      },
      "execution_count": 20,
      "outputs": [
        {
          "output_type": "execute_result",
          "data": {
            "text/plain": [
              "1.0"
            ]
          },
          "metadata": {},
          "execution_count": 20
        }
      ]
    },
    {
      "cell_type": "code",
      "source": [
        "pred.show()"
      ],
      "metadata": {
        "colab": {
          "base_uri": "https://localhost:8080/"
        },
        "id": "gjMBK1RL73-0",
        "outputId": "dd0e672f-5656-416e-925d-4818a5258ef2"
      },
      "execution_count": 21,
      "outputs": [
        {
          "output_type": "stream",
          "name": "stdout",
          "text": [
            "+------------+---------------+---+------------------+----------+------+------+-----------------+-----+-----------------+--------------------+------------------+\n",
            "|   Ship_name|    Cruise_line|Age|           Tonnage|passengers|length|cabins|passenger_density| crew|Cruise_line_index|            features|        prediction|\n",
            "+------------+---------------+---+------------------+----------+------+------+-----------------+-----+-----------------+--------------------+------------------+\n",
            "|   Adventure|Royal_Caribbean| 12|             138.0|     31.14|  10.2| 15.57|            44.32|11.85|              0.0|[12.0,138.0,31.14...|11.850000000000033|\n",
            "|   Atlantica|          Costa| 13|            85.619|     21.14|  9.57| 10.56|             40.5|  9.2|              5.0|[13.0,85.619,21.1...| 9.199999999999989|\n",
            "|    Conquest|       Carnival| 11|             110.0|     29.74|  9.53| 14.88|            36.99| 19.1|              1.0|[11.0,110.0,29.74...|19.099999999999905|\n",
            "|        Dawn|      Norwegian| 11|              90.0|      22.4|  9.65|  11.2|            40.18| 11.0|              4.0|[11.0,90.0,22.4,9...|10.999999999999968|\n",
            "|     Fortuna|          Costa| 10|             105.0|      27.2|   8.9| 13.56|             38.6|10.68|              5.0|[10.0,105.0,27.2,...|10.680000000000021|\n",
            "|       Glory|       Carnival| 10|             110.0|     29.74|  9.51| 14.87|            36.99| 11.6|              1.0|[10.0,110.0,29.74...|11.600000000000016|\n",
            "|       Grand|       Princess| 15|           108.806|      26.0|  9.51|  13.0|            41.85| 11.1|              2.0|[15.0,108.806,26....|11.100000000000007|\n",
            "| Imagination|       Carnival| 18|            70.367|     20.52|  8.55|  10.2|            34.29|  9.2|              1.0|[18.0,70.367,20.5...| 9.199999999999985|\n",
            "|      Island|       Princess| 10| 91.62700000000001|     19.74|  9.64|  9.87|            46.42|  9.0|              2.0|[10.0,91.62700000...| 8.999999999999988|\n",
            "|       Jewel|      Norwegian|  8|              91.0|     22.44|  9.65| 11.22|            40.55| 11.0|              4.0|[8.0,91.0,22.44,9...|10.999999999999968|\n",
            "|       Jewel|Royal_Caribbean|  9|             90.09|     25.01|  9.62| 10.94|            36.02| 8.69|              0.0|[9.0,90.09,25.01,...| 8.689999999999992|\n",
            "|     Liberty|Royal_Caribbean|  6|             158.0|      43.7| 11.25|  18.0|            36.16| 13.6|              0.0|[6.0,158.0,43.7,1...|13.600000000000023|\n",
            "|    Liberty*|       Carnival|  8|             110.0|     29.74|  9.51| 14.87|            36.99| 11.6|              1.0|[8.0,110.0,29.74,...|11.600000000000014|\n",
            "|       Magic|         Disney| 15|            83.338|      17.5|  9.64|  8.75|            47.62| 9.45|             18.0|[15.0,83.338,17.5...| 9.449999999999974|\n",
            "|      Marina|          Costa| 23|              25.0|      7.76|  6.22|  3.86|            32.22| 3.85|              5.0|[23.0,25.0,7.76,6...|  3.84999999999999|\n",
            "|     Mariner|Royal_Caribbean| 10|             138.0|     31.14|  10.2| 15.57|            44.32|11.85|              0.0|[10.0,138.0,31.14...|11.850000000000033|\n",
            "|Mediterranea|          Costa| 10|              86.0|     21.14|   9.6| 10.56|            40.68|  9.2|              5.0|[10.0,86.0,21.14,...| 9.199999999999987|\n",
            "|   Navigator|Royal_Caribbean| 11|             138.0|     31.14|  10.2| 15.57|            44.32|11.85|              0.0|[11.0,138.0,31.14...|11.850000000000033|\n",
            "|     Pacific|       Princess| 14|30.276999999999997|      6.86|  5.93|  3.44|            44.14| 3.73|              2.0|[14.0,30.27699999...|3.7300000000000013|\n",
            "|    Paradise|       Carnival| 15|            70.367|     20.52|  8.55|  10.2|            34.29|  9.2|              1.0|[15.0,70.367,20.5...| 9.199999999999983|\n",
            "+------------+---------------+---+------------------+----------+------+------+-----------------+-----+-----------------+--------------------+------------------+\n",
            "only showing top 20 rows\n",
            "\n"
          ]
        }
      ]
    },
    {
      "cell_type": "code",
      "source": [],
      "metadata": {
        "id": "v9kS4-I49hD7"
      },
      "execution_count": null,
      "outputs": []
    }
  ]
}