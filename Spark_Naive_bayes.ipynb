{
  "nbformat": 4,
  "nbformat_minor": 0,
  "metadata": {
    "colab": {
      "provenance": []
    },
    "kernelspec": {
      "name": "python3",
      "display_name": "Python 3"
    },
    "language_info": {
      "name": "python"
    }
  },
  "cells": [
    {
      "cell_type": "code",
      "source": [
        "!pip install pyspark"
      ],
      "metadata": {
        "colab": {
          "base_uri": "https://localhost:8080/"
        },
        "id": "nuVeHPUr_LdT",
        "outputId": "2e342e7b-6a6c-47e2-fe6a-cd89cdc8f264"
      },
      "execution_count": 4,
      "outputs": [
        {
          "output_type": "stream",
          "name": "stdout",
          "text": [
            "Collecting pyspark\n",
            "  Downloading pyspark-3.5.1.tar.gz (317.0 MB)\n",
            "\u001b[2K     \u001b[90m━━━━━━━━━━━━━━━━━━━━━━━━━━━━━━━━━━━━━━━━\u001b[0m \u001b[32m317.0/317.0 MB\u001b[0m \u001b[31m2.3 MB/s\u001b[0m eta \u001b[36m0:00:00\u001b[0m\n",
            "\u001b[?25h  Preparing metadata (setup.py) ... \u001b[?25l\u001b[?25hdone\n",
            "Requirement already satisfied: py4j==0.10.9.7 in /usr/local/lib/python3.10/dist-packages (from pyspark) (0.10.9.7)\n",
            "Building wheels for collected packages: pyspark\n",
            "  Building wheel for pyspark (setup.py) ... \u001b[?25l\u001b[?25hdone\n",
            "  Created wheel for pyspark: filename=pyspark-3.5.1-py2.py3-none-any.whl size=317488491 sha256=37e004a86c790f0c94e95b876bb29fa2fd156444bf32370696ac53f9323ae8f8\n",
            "  Stored in directory: /root/.cache/pip/wheels/80/1d/60/2c256ed38dddce2fdd93be545214a63e02fbd8d74fb0b7f3a6\n",
            "Successfully built pyspark\n",
            "Installing collected packages: pyspark\n",
            "Successfully installed pyspark-3.5.1\n"
          ]
        }
      ]
    },
    {
      "cell_type": "code",
      "source": [
        "import pyspark\n",
        "from pyspark.sql import SparkSession"
      ],
      "metadata": {
        "id": "XcQtaEfy_xH2"
      },
      "execution_count": 5,
      "outputs": []
    },
    {
      "cell_type": "code",
      "source": [
        "# Create a Spark session\n",
        "spark = SparkSession.builder.appName(\"income_dataset\").getOrCreate()"
      ],
      "metadata": {
        "id": "CLDJabnV_0yb"
      },
      "execution_count": 6,
      "outputs": []
    },
    {
      "cell_type": "code",
      "source": [
        "data=spark.read.csv('/content/adult.data')\n",
        "data.show()"
      ],
      "metadata": {
        "colab": {
          "base_uri": "https://localhost:8080/"
        },
        "id": "Rzj39z2fAIO_",
        "outputId": "39a5cf83-8402-4d42-b874-833e4bcedac6"
      },
      "execution_count": 7,
      "outputs": [
        {
          "output_type": "stream",
          "name": "stdout",
          "text": [
            "+---+-----------------+-------+-------------+---+--------------------+------------------+--------------+-------------------+-------+------+----+----+--------------+------+\n",
            "|_c0|              _c1|    _c2|          _c3|_c4|                 _c5|               _c6|           _c7|                _c8|    _c9|  _c10|_c11|_c12|          _c13|  _c14|\n",
            "+---+-----------------+-------+-------------+---+--------------------+------------------+--------------+-------------------+-------+------+----+----+--------------+------+\n",
            "| 39|        State-gov|  77516|    Bachelors| 13|       Never-married|      Adm-clerical| Not-in-family|              White|   Male|  2174|   0|  40| United-States| <=50K|\n",
            "| 50| Self-emp-not-inc|  83311|    Bachelors| 13|  Married-civ-spouse|   Exec-managerial|       Husband|              White|   Male|     0|   0|  13| United-States| <=50K|\n",
            "| 38|          Private| 215646|      HS-grad|  9|            Divorced| Handlers-cleaners| Not-in-family|              White|   Male|     0|   0|  40| United-States| <=50K|\n",
            "| 53|          Private| 234721|         11th|  7|  Married-civ-spouse| Handlers-cleaners|       Husband|              Black|   Male|     0|   0|  40| United-States| <=50K|\n",
            "| 28|          Private| 338409|    Bachelors| 13|  Married-civ-spouse|    Prof-specialty|          Wife|              Black| Female|     0|   0|  40|          Cuba| <=50K|\n",
            "| 37|          Private| 284582|      Masters| 14|  Married-civ-spouse|   Exec-managerial|          Wife|              White| Female|     0|   0|  40| United-States| <=50K|\n",
            "| 49|          Private| 160187|          9th|  5| Married-spouse-a...|     Other-service| Not-in-family|              Black| Female|     0|   0|  16|       Jamaica| <=50K|\n",
            "| 52| Self-emp-not-inc| 209642|      HS-grad|  9|  Married-civ-spouse|   Exec-managerial|       Husband|              White|   Male|     0|   0|  45| United-States|  >50K|\n",
            "| 31|          Private|  45781|      Masters| 14|       Never-married|    Prof-specialty| Not-in-family|              White| Female| 14084|   0|  50| United-States|  >50K|\n",
            "| 42|          Private| 159449|    Bachelors| 13|  Married-civ-spouse|   Exec-managerial|       Husband|              White|   Male|  5178|   0|  40| United-States|  >50K|\n",
            "| 37|          Private| 280464| Some-college| 10|  Married-civ-spouse|   Exec-managerial|       Husband|              Black|   Male|     0|   0|  80| United-States|  >50K|\n",
            "| 30|        State-gov| 141297|    Bachelors| 13|  Married-civ-spouse|    Prof-specialty|       Husband| Asian-Pac-Islander|   Male|     0|   0|  40|         India|  >50K|\n",
            "| 23|          Private| 122272|    Bachelors| 13|       Never-married|      Adm-clerical|     Own-child|              White| Female|     0|   0|  30| United-States| <=50K|\n",
            "| 32|          Private| 205019|   Assoc-acdm| 12|       Never-married|             Sales| Not-in-family|              Black|   Male|     0|   0|  50| United-States| <=50K|\n",
            "| 40|          Private| 121772|    Assoc-voc| 11|  Married-civ-spouse|      Craft-repair|       Husband| Asian-Pac-Islander|   Male|     0|   0|  40|             ?|  >50K|\n",
            "| 34|          Private| 245487|      7th-8th|  4|  Married-civ-spouse|  Transport-moving|       Husband| Amer-Indian-Eskimo|   Male|     0|   0|  45|        Mexico| <=50K|\n",
            "| 25| Self-emp-not-inc| 176756|      HS-grad|  9|       Never-married|   Farming-fishing|     Own-child|              White|   Male|     0|   0|  35| United-States| <=50K|\n",
            "| 32|          Private| 186824|      HS-grad|  9|       Never-married| Machine-op-inspct|     Unmarried|              White|   Male|     0|   0|  40| United-States| <=50K|\n",
            "| 38|          Private|  28887|         11th|  7|  Married-civ-spouse|             Sales|       Husband|              White|   Male|     0|   0|  50| United-States| <=50K|\n",
            "| 43| Self-emp-not-inc| 292175|      Masters| 14|            Divorced|   Exec-managerial|     Unmarried|              White| Female|     0|   0|  45| United-States|  >50K|\n",
            "+---+-----------------+-------+-------------+---+--------------------+------------------+--------------+-------------------+-------+------+----+----+--------------+------+\n",
            "only showing top 20 rows\n",
            "\n"
          ]
        }
      ]
    },
    {
      "cell_type": "code",
      "source": [
        "#adding label name to the columns\n",
        "labels=['age','workclass','fnlwgt','education','numbers','marital','occupation','relation','race','gender','gain','loss','hourlypay','country','income']"
      ],
      "metadata": {
        "id": "Yyta_f1tAuIf"
      },
      "execution_count": 8,
      "outputs": []
    },
    {
      "cell_type": "code",
      "source": [
        "df=data.toDF(*labels)\n",
        "df.show(5)"
      ],
      "metadata": {
        "colab": {
          "base_uri": "https://localhost:8080/"
        },
        "id": "UKYwBHiKB_4T",
        "outputId": "06c91de8-9e54-4c8c-a3f0-c7c17e66fecc"
      },
      "execution_count": 9,
      "outputs": [
        {
          "output_type": "stream",
          "name": "stdout",
          "text": [
            "+---+-----------------+-------+----------+-------+-------------------+------------------+--------------+------+-------+-----+----+---------+--------------+------+\n",
            "|age|        workclass| fnlwgt| education|numbers|            marital|        occupation|      relation|  race| gender| gain|loss|hourlypay|       country|income|\n",
            "+---+-----------------+-------+----------+-------+-------------------+------------------+--------------+------+-------+-----+----+---------+--------------+------+\n",
            "| 39|        State-gov|  77516| Bachelors|     13|      Never-married|      Adm-clerical| Not-in-family| White|   Male| 2174|   0|       40| United-States| <=50K|\n",
            "| 50| Self-emp-not-inc|  83311| Bachelors|     13| Married-civ-spouse|   Exec-managerial|       Husband| White|   Male|    0|   0|       13| United-States| <=50K|\n",
            "| 38|          Private| 215646|   HS-grad|      9|           Divorced| Handlers-cleaners| Not-in-family| White|   Male|    0|   0|       40| United-States| <=50K|\n",
            "| 53|          Private| 234721|      11th|      7| Married-civ-spouse| Handlers-cleaners|       Husband| Black|   Male|    0|   0|       40| United-States| <=50K|\n",
            "| 28|          Private| 338409| Bachelors|     13| Married-civ-spouse|    Prof-specialty|          Wife| Black| Female|    0|   0|       40|          Cuba| <=50K|\n",
            "+---+-----------------+-------+----------+-------+-------------------+------------------+--------------+------+-------+-----+----+---------+--------------+------+\n",
            "only showing top 5 rows\n",
            "\n"
          ]
        }
      ]
    },
    {
      "cell_type": "code",
      "source": [
        "df.printSchema()"
      ],
      "metadata": {
        "colab": {
          "base_uri": "https://localhost:8080/"
        },
        "id": "gAS5aGC7CZC7",
        "outputId": "2c0ce1de-2506-48ad-a99d-2ce7821461f8"
      },
      "execution_count": 10,
      "outputs": [
        {
          "output_type": "stream",
          "name": "stdout",
          "text": [
            "root\n",
            " |-- age: string (nullable = true)\n",
            " |-- workclass: string (nullable = true)\n",
            " |-- fnlwgt: string (nullable = true)\n",
            " |-- education: string (nullable = true)\n",
            " |-- numbers: string (nullable = true)\n",
            " |-- marital: string (nullable = true)\n",
            " |-- occupation: string (nullable = true)\n",
            " |-- relation: string (nullable = true)\n",
            " |-- race: string (nullable = true)\n",
            " |-- gender: string (nullable = true)\n",
            " |-- gain: string (nullable = true)\n",
            " |-- loss: string (nullable = true)\n",
            " |-- hourlypay: string (nullable = true)\n",
            " |-- country: string (nullable = true)\n",
            " |-- income: string (nullable = true)\n",
            "\n"
          ]
        }
      ]
    },
    {
      "cell_type": "code",
      "source": [
        "from pyspark.sql.functions import col\n",
        "new_df=df.withColumn('age',col('age').cast('integer'))"
      ],
      "metadata": {
        "id": "V6BjYxgMDTFM"
      },
      "execution_count": 11,
      "outputs": []
    },
    {
      "cell_type": "code",
      "source": [
        "new_df.printSchema()"
      ],
      "metadata": {
        "colab": {
          "base_uri": "https://localhost:8080/"
        },
        "id": "NZaM2O8bD1cg",
        "outputId": "f1b0599b-dad7-4b94-9efd-08e6bcfa4059"
      },
      "execution_count": 12,
      "outputs": [
        {
          "output_type": "stream",
          "name": "stdout",
          "text": [
            "root\n",
            " |-- age: integer (nullable = true)\n",
            " |-- workclass: string (nullable = true)\n",
            " |-- fnlwgt: string (nullable = true)\n",
            " |-- education: string (nullable = true)\n",
            " |-- numbers: string (nullable = true)\n",
            " |-- marital: string (nullable = true)\n",
            " |-- occupation: string (nullable = true)\n",
            " |-- relation: string (nullable = true)\n",
            " |-- race: string (nullable = true)\n",
            " |-- gender: string (nullable = true)\n",
            " |-- gain: string (nullable = true)\n",
            " |-- loss: string (nullable = true)\n",
            " |-- hourlypay: string (nullable = true)\n",
            " |-- country: string (nullable = true)\n",
            " |-- income: string (nullable = true)\n",
            "\n"
          ]
        }
      ]
    },
    {
      "cell_type": "code",
      "source": [
        "for i in ['fnlwgt','numbers','gain','loss','hourlypay']:\n",
        "  new_df=new_df.withColumn(i,col(i).cast('integer'))"
      ],
      "metadata": {
        "id": "BC1Eju2iD5fs"
      },
      "execution_count": 13,
      "outputs": []
    },
    {
      "cell_type": "code",
      "source": [
        "from pyspark.sql.functions import *\n",
        "new_df.select([count(when(col(c).isNull(),c )).alias(c) for c in new_df.columns]).show()"
      ],
      "metadata": {
        "colab": {
          "base_uri": "https://localhost:8080/"
        },
        "id": "xEXK3gDyEcw-",
        "outputId": "ca6f1656-b6f7-40b6-983c-2b6820b38eee"
      },
      "execution_count": 14,
      "outputs": [
        {
          "output_type": "stream",
          "name": "stdout",
          "text": [
            "+---+---------+------+---------+-------+-------+----------+--------+----+------+----+----+---------+-------+------+\n",
            "|age|workclass|fnlwgt|education|numbers|marital|occupation|relation|race|gender|gain|loss|hourlypay|country|income|\n",
            "+---+---------+------+---------+-------+-------+----------+--------+----+------+----+----+---------+-------+------+\n",
            "|  0|        0|     0|        0|      0|      0|         0|       0|   0|     0|   0|   0|        0|      0|     0|\n",
            "+---+---------+------+---------+-------+-------+----------+--------+----+------+----+----+---------+-------+------+\n",
            "\n"
          ]
        }
      ]
    },
    {
      "cell_type": "code",
      "source": [
        "df.select('workclass').distinct().show()  #null values are present"
      ],
      "metadata": {
        "colab": {
          "base_uri": "https://localhost:8080/"
        },
        "id": "8_D8elikb2gW",
        "outputId": "f0ccff7a-4afb-4f8f-a704-91255d207b36"
      },
      "execution_count": 15,
      "outputs": [
        {
          "output_type": "stream",
          "name": "stdout",
          "text": [
            "+-----------------+\n",
            "|        workclass|\n",
            "+-----------------+\n",
            "|        State-gov|\n",
            "|      Federal-gov|\n",
            "| Self-emp-not-inc|\n",
            "|        Local-gov|\n",
            "|          Private|\n",
            "|                ?|\n",
            "|     Self-emp-inc|\n",
            "|      Without-pay|\n",
            "|     Never-worked|\n",
            "+-----------------+\n",
            "\n"
          ]
        }
      ]
    },
    {
      "cell_type": "code",
      "source": [
        "df.groupby('workclass').count().show()"
      ],
      "metadata": {
        "colab": {
          "base_uri": "https://localhost:8080/"
        },
        "id": "upZqVxXoE2mD",
        "outputId": "03d5a6b2-d4bf-4469-8719-54a722dacd3a"
      },
      "execution_count": 16,
      "outputs": [
        {
          "output_type": "stream",
          "name": "stdout",
          "text": [
            "+-----------------+-----+\n",
            "|        workclass|count|\n",
            "+-----------------+-----+\n",
            "|        State-gov| 1298|\n",
            "|      Federal-gov|  960|\n",
            "| Self-emp-not-inc| 2541|\n",
            "|        Local-gov| 2093|\n",
            "|          Private|22696|\n",
            "|                ?| 1836|\n",
            "|     Self-emp-inc| 1116|\n",
            "|      Without-pay|   14|\n",
            "|     Never-worked|    7|\n",
            "+-----------------+-----+\n",
            "\n"
          ]
        }
      ]
    },
    {
      "cell_type": "code",
      "source": [
        "#replacing the null values\n",
        "df=new_df.replace(' ?',None)"
      ],
      "metadata": {
        "id": "s4hJRk88cD-3"
      },
      "execution_count": 17,
      "outputs": []
    },
    {
      "cell_type": "code",
      "source": [
        "from pyspark.sql.functions import *\n",
        "df.select([count(when(col(c).isNull(),c )).alias(c) for c in df.columns]).show()"
      ],
      "metadata": {
        "colab": {
          "base_uri": "https://localhost:8080/"
        },
        "id": "R7UYlLKzcXTX",
        "outputId": "07c0490d-8517-427b-c69a-dc9120f127b1"
      },
      "execution_count": 18,
      "outputs": [
        {
          "output_type": "stream",
          "name": "stdout",
          "text": [
            "+---+---------+------+---------+-------+-------+----------+--------+----+------+----+----+---------+-------+------+\n",
            "|age|workclass|fnlwgt|education|numbers|marital|occupation|relation|race|gender|gain|loss|hourlypay|country|income|\n",
            "+---+---------+------+---------+-------+-------+----------+--------+----+------+----+----+---------+-------+------+\n",
            "|  0|     1836|     0|        0|      0|      0|      1843|       0|   0|     0|   0|   0|        0|    583|     0|\n",
            "+---+---------+------+---------+-------+-------+----------+--------+----+------+----+----+---------+-------+------+\n",
            "\n"
          ]
        }
      ]
    },
    {
      "cell_type": "code",
      "source": [
        "df.groupby('country').count().show()"
      ],
      "metadata": {
        "colab": {
          "base_uri": "https://localhost:8080/"
        },
        "id": "k39_BU0pe1ra",
        "outputId": "ab43e0a0-6756-467e-de3a-aafeca7296bb"
      },
      "execution_count": 19,
      "outputs": [
        {
          "output_type": "stream",
          "name": "stdout",
          "text": [
            "+-------------------+-----+\n",
            "|            country|count|\n",
            "+-------------------+-----+\n",
            "| Dominican-Republic|   70|\n",
            "|            Ireland|   24|\n",
            "|               Cuba|   95|\n",
            "|          Guatemala|   64|\n",
            "|               Iran|   43|\n",
            "|             Taiwan|   51|\n",
            "|        El-Salvador|  106|\n",
            "|      United-States|29170|\n",
            "|              South|   80|\n",
            "|              Japan|   62|\n",
            "|          Nicaragua|   34|\n",
            "|               NULL|  583|\n",
            "|             Canada|  121|\n",
            "|           Cambodia|   19|\n",
            "|               Laos|   18|\n",
            "|            Germany|  137|\n",
            "|    Trinadad&Tobago|   19|\n",
            "|               Peru|   31|\n",
            "|            Ecuador|   28|\n",
            "|         Yugoslavia|   16|\n",
            "+-------------------+-----+\n",
            "only showing top 20 rows\n",
            "\n"
          ]
        }
      ]
    },
    {
      "cell_type": "code",
      "source": [
        "#using the mode method and filling the null values\n",
        "df=df.fillna('United-States',subset=['country'])"
      ],
      "metadata": {
        "id": "DLnaqZeme1t8"
      },
      "execution_count": 20,
      "outputs": []
    },
    {
      "cell_type": "code",
      "source": [
        "df.groupby('workclass').count().show()"
      ],
      "metadata": {
        "colab": {
          "base_uri": "https://localhost:8080/"
        },
        "id": "QtTH6DjVdKGY",
        "outputId": "04dd50ed-bafb-475c-ed91-4e419056795d"
      },
      "execution_count": 21,
      "outputs": [
        {
          "output_type": "stream",
          "name": "stdout",
          "text": [
            "+-----------------+-----+\n",
            "|        workclass|count|\n",
            "+-----------------+-----+\n",
            "|        State-gov| 1298|\n",
            "|      Federal-gov|  960|\n",
            "|             NULL| 1836|\n",
            "| Self-emp-not-inc| 2541|\n",
            "|        Local-gov| 2093|\n",
            "|          Private|22696|\n",
            "|     Self-emp-inc| 1116|\n",
            "|      Without-pay|   14|\n",
            "|     Never-worked|    7|\n",
            "+-----------------+-----+\n",
            "\n"
          ]
        }
      ]
    },
    {
      "cell_type": "code",
      "source": [
        "#using the mode method and filling the null values\n",
        "df=df.fillna('Private',subset=['workclass'])"
      ],
      "metadata": {
        "id": "887z4IyXGHuz"
      },
      "execution_count": 22,
      "outputs": []
    },
    {
      "cell_type": "code",
      "source": [
        "df.groupby('occupation').count().show()"
      ],
      "metadata": {
        "colab": {
          "base_uri": "https://localhost:8080/"
        },
        "id": "UP5xffaQfjPm",
        "outputId": "e3bc434a-b5a7-4f43-ae15-55091d22678c"
      },
      "execution_count": 23,
      "outputs": [
        {
          "output_type": "stream",
          "name": "stdout",
          "text": [
            "+------------------+-----+\n",
            "|        occupation|count|\n",
            "+------------------+-----+\n",
            "|   Farming-fishing|  994|\n",
            "|              NULL| 1843|\n",
            "| Handlers-cleaners| 1370|\n",
            "|    Prof-specialty| 4140|\n",
            "|      Adm-clerical| 3770|\n",
            "|   Exec-managerial| 4066|\n",
            "|      Craft-repair| 4099|\n",
            "|             Sales| 3650|\n",
            "|      Tech-support|  928|\n",
            "|  Transport-moving| 1597|\n",
            "|   Protective-serv|  649|\n",
            "|      Armed-Forces|    9|\n",
            "| Machine-op-inspct| 2002|\n",
            "|     Other-service| 3295|\n",
            "|   Priv-house-serv|  149|\n",
            "+------------------+-----+\n",
            "\n"
          ]
        }
      ]
    },
    {
      "cell_type": "code",
      "source": [
        "df=df.fillna('Prof-specialty',subset=['occupation'])"
      ],
      "metadata": {
        "id": "Jut8BY54GNG6"
      },
      "execution_count": 24,
      "outputs": []
    },
    {
      "cell_type": "code",
      "source": [
        "new_df.select([count(when(col(c).isNull(),c )).alias(c) for c in new_df.columns]).show()"
      ],
      "metadata": {
        "colab": {
          "base_uri": "https://localhost:8080/"
        },
        "id": "3cQCJv-jGYCl",
        "outputId": "910028a6-9e84-4d92-fdce-a6414a6cea73"
      },
      "execution_count": 25,
      "outputs": [
        {
          "output_type": "stream",
          "name": "stdout",
          "text": [
            "+---+---------+------+---------+-------+-------+----------+--------+----+------+----+----+---------+-------+------+\n",
            "|age|workclass|fnlwgt|education|numbers|marital|occupation|relation|race|gender|gain|loss|hourlypay|country|income|\n",
            "+---+---------+------+---------+-------+-------+----------+--------+----+------+----+----+---------+-------+------+\n",
            "|  0|        0|     0|        0|      0|      0|         0|       0|   0|     0|   0|   0|        0|      0|     0|\n",
            "+---+---------+------+---------+-------+-------+----------+--------+----+------+----+----+---------+-------+------+\n",
            "\n"
          ]
        }
      ]
    },
    {
      "cell_type": "markdown",
      "source": [
        "#Applying Naive bayes"
      ],
      "metadata": {
        "id": "wYu75RSVk7Pa"
      }
    },
    {
      "cell_type": "code",
      "source": [
        "categorical_cols=['age',\n",
        " 'education',\n",
        " 'marital',\n",
        " 'occupation',\n",
        " 'relation',\n",
        " 'race',\n",
        " 'gender',\n",
        " 'country','income']\n",
        "\n",
        "numerical_cols=['age','fnlwgt','numbers','gain','loss','hourlypay']\n",
        "label='income'"
      ],
      "metadata": {
        "id": "ibpp3S8qKuDf"
      },
      "execution_count": 43,
      "outputs": []
    },
    {
      "cell_type": "code",
      "source": [
        "def indexer(df,col):\n",
        "  indexer=StringIndexer(inputCol=col,outputCol=f'{col}_index',handleInvalid='keep')\n",
        "  indexed=indexer.fit(df).transform(df)\n",
        "  return indexed"
      ],
      "metadata": {
        "id": "HKW-zNasS58I"
      },
      "execution_count": 44,
      "outputs": []
    },
    {
      "cell_type": "code",
      "source": [
        "indexer(df,'workclass').show()"
      ],
      "metadata": {
        "id": "-qEZZBngS6Mi",
        "colab": {
          "base_uri": "https://localhost:8080/"
        },
        "outputId": "b477ccce-2dfd-435d-89a5-28fc5433c449"
      },
      "execution_count": 45,
      "outputs": [
        {
          "output_type": "stream",
          "name": "stdout",
          "text": [
            "+---+-----------------+------+-------------+-------+--------------------+------------------+--------------+-------------------+-------+-----+----+---------+--------------+------+---------------+\n",
            "|age|        workclass|fnlwgt|    education|numbers|             marital|        occupation|      relation|               race| gender| gain|loss|hourlypay|       country|income|workclass_index|\n",
            "+---+-----------------+------+-------------+-------+--------------------+------------------+--------------+-------------------+-------+-----+----+---------+--------------+------+---------------+\n",
            "| 39|        State-gov| 77516|    Bachelors|     13|       Never-married|      Adm-clerical| Not-in-family|              White|   Male| 2174|   0|       40| United-States| <=50K|            4.0|\n",
            "| 50| Self-emp-not-inc| 83311|    Bachelors|     13|  Married-civ-spouse|   Exec-managerial|       Husband|              White|   Male|    0|   0|       13| United-States| <=50K|            1.0|\n",
            "| 38|          Private|215646|      HS-grad|      9|            Divorced| Handlers-cleaners| Not-in-family|              White|   Male|    0|   0|       40| United-States| <=50K|            0.0|\n",
            "| 53|          Private|234721|         11th|      7|  Married-civ-spouse| Handlers-cleaners|       Husband|              Black|   Male|    0|   0|       40| United-States| <=50K|            0.0|\n",
            "| 28|          Private|338409|    Bachelors|     13|  Married-civ-spouse|    Prof-specialty|          Wife|              Black| Female|    0|   0|       40|          Cuba| <=50K|            0.0|\n",
            "| 37|          Private|284582|      Masters|     14|  Married-civ-spouse|   Exec-managerial|          Wife|              White| Female|    0|   0|       40| United-States| <=50K|            0.0|\n",
            "| 49|          Private|160187|          9th|      5| Married-spouse-a...|     Other-service| Not-in-family|              Black| Female|    0|   0|       16|       Jamaica| <=50K|            0.0|\n",
            "| 52| Self-emp-not-inc|209642|      HS-grad|      9|  Married-civ-spouse|   Exec-managerial|       Husband|              White|   Male|    0|   0|       45| United-States|  >50K|            1.0|\n",
            "| 31|          Private| 45781|      Masters|     14|       Never-married|    Prof-specialty| Not-in-family|              White| Female|14084|   0|       50| United-States|  >50K|            0.0|\n",
            "| 42|          Private|159449|    Bachelors|     13|  Married-civ-spouse|   Exec-managerial|       Husband|              White|   Male| 5178|   0|       40| United-States|  >50K|            0.0|\n",
            "| 37|          Private|280464| Some-college|     10|  Married-civ-spouse|   Exec-managerial|       Husband|              Black|   Male|    0|   0|       80| United-States|  >50K|            0.0|\n",
            "| 30|        State-gov|141297|    Bachelors|     13|  Married-civ-spouse|    Prof-specialty|       Husband| Asian-Pac-Islander|   Male|    0|   0|       40|         India|  >50K|            4.0|\n",
            "| 23|          Private|122272|    Bachelors|     13|       Never-married|      Adm-clerical|     Own-child|              White| Female|    0|   0|       30| United-States| <=50K|            0.0|\n",
            "| 32|          Private|205019|   Assoc-acdm|     12|       Never-married|             Sales| Not-in-family|              Black|   Male|    0|   0|       50| United-States| <=50K|            0.0|\n",
            "| 40|          Private|121772|    Assoc-voc|     11|  Married-civ-spouse|      Craft-repair|       Husband| Asian-Pac-Islander|   Male|    0|   0|       40| United-States|  >50K|            0.0|\n",
            "| 34|          Private|245487|      7th-8th|      4|  Married-civ-spouse|  Transport-moving|       Husband| Amer-Indian-Eskimo|   Male|    0|   0|       45|        Mexico| <=50K|            0.0|\n",
            "| 25| Self-emp-not-inc|176756|      HS-grad|      9|       Never-married|   Farming-fishing|     Own-child|              White|   Male|    0|   0|       35| United-States| <=50K|            1.0|\n",
            "| 32|          Private|186824|      HS-grad|      9|       Never-married| Machine-op-inspct|     Unmarried|              White|   Male|    0|   0|       40| United-States| <=50K|            0.0|\n",
            "| 38|          Private| 28887|         11th|      7|  Married-civ-spouse|             Sales|       Husband|              White|   Male|    0|   0|       50| United-States| <=50K|            0.0|\n",
            "| 43| Self-emp-not-inc|292175|      Masters|     14|            Divorced|   Exec-managerial|     Unmarried|              White| Female|    0|   0|       45| United-States|  >50K|            1.0|\n",
            "+---+-----------------+------+-------------+-------+--------------------+------------------+--------------+-------------------+-------+-----+----+---------+--------------+------+---------------+\n",
            "only showing top 20 rows\n",
            "\n"
          ]
        }
      ]
    },
    {
      "cell_type": "code",
      "source": [
        "df.show()"
      ],
      "metadata": {
        "id": "qJ1cGV4SS6VR",
        "colab": {
          "base_uri": "https://localhost:8080/"
        },
        "outputId": "925dcbdd-a85a-48aa-8e9b-4411298b1345"
      },
      "execution_count": 46,
      "outputs": [
        {
          "output_type": "stream",
          "name": "stdout",
          "text": [
            "+---+-----------------+------+-------------+-------+--------------------+------------------+--------------+-------------------+-------+-----+----+---------+--------------+------+\n",
            "|age|        workclass|fnlwgt|    education|numbers|             marital|        occupation|      relation|               race| gender| gain|loss|hourlypay|       country|income|\n",
            "+---+-----------------+------+-------------+-------+--------------------+------------------+--------------+-------------------+-------+-----+----+---------+--------------+------+\n",
            "| 39|        State-gov| 77516|    Bachelors|     13|       Never-married|      Adm-clerical| Not-in-family|              White|   Male| 2174|   0|       40| United-States| <=50K|\n",
            "| 50| Self-emp-not-inc| 83311|    Bachelors|     13|  Married-civ-spouse|   Exec-managerial|       Husband|              White|   Male|    0|   0|       13| United-States| <=50K|\n",
            "| 38|          Private|215646|      HS-grad|      9|            Divorced| Handlers-cleaners| Not-in-family|              White|   Male|    0|   0|       40| United-States| <=50K|\n",
            "| 53|          Private|234721|         11th|      7|  Married-civ-spouse| Handlers-cleaners|       Husband|              Black|   Male|    0|   0|       40| United-States| <=50K|\n",
            "| 28|          Private|338409|    Bachelors|     13|  Married-civ-spouse|    Prof-specialty|          Wife|              Black| Female|    0|   0|       40|          Cuba| <=50K|\n",
            "| 37|          Private|284582|      Masters|     14|  Married-civ-spouse|   Exec-managerial|          Wife|              White| Female|    0|   0|       40| United-States| <=50K|\n",
            "| 49|          Private|160187|          9th|      5| Married-spouse-a...|     Other-service| Not-in-family|              Black| Female|    0|   0|       16|       Jamaica| <=50K|\n",
            "| 52| Self-emp-not-inc|209642|      HS-grad|      9|  Married-civ-spouse|   Exec-managerial|       Husband|              White|   Male|    0|   0|       45| United-States|  >50K|\n",
            "| 31|          Private| 45781|      Masters|     14|       Never-married|    Prof-specialty| Not-in-family|              White| Female|14084|   0|       50| United-States|  >50K|\n",
            "| 42|          Private|159449|    Bachelors|     13|  Married-civ-spouse|   Exec-managerial|       Husband|              White|   Male| 5178|   0|       40| United-States|  >50K|\n",
            "| 37|          Private|280464| Some-college|     10|  Married-civ-spouse|   Exec-managerial|       Husband|              Black|   Male|    0|   0|       80| United-States|  >50K|\n",
            "| 30|        State-gov|141297|    Bachelors|     13|  Married-civ-spouse|    Prof-specialty|       Husband| Asian-Pac-Islander|   Male|    0|   0|       40|         India|  >50K|\n",
            "| 23|          Private|122272|    Bachelors|     13|       Never-married|      Adm-clerical|     Own-child|              White| Female|    0|   0|       30| United-States| <=50K|\n",
            "| 32|          Private|205019|   Assoc-acdm|     12|       Never-married|             Sales| Not-in-family|              Black|   Male|    0|   0|       50| United-States| <=50K|\n",
            "| 40|          Private|121772|    Assoc-voc|     11|  Married-civ-spouse|      Craft-repair|       Husband| Asian-Pac-Islander|   Male|    0|   0|       40| United-States|  >50K|\n",
            "| 34|          Private|245487|      7th-8th|      4|  Married-civ-spouse|  Transport-moving|       Husband| Amer-Indian-Eskimo|   Male|    0|   0|       45|        Mexico| <=50K|\n",
            "| 25| Self-emp-not-inc|176756|      HS-grad|      9|       Never-married|   Farming-fishing|     Own-child|              White|   Male|    0|   0|       35| United-States| <=50K|\n",
            "| 32|          Private|186824|      HS-grad|      9|       Never-married| Machine-op-inspct|     Unmarried|              White|   Male|    0|   0|       40| United-States| <=50K|\n",
            "| 38|          Private| 28887|         11th|      7|  Married-civ-spouse|             Sales|       Husband|              White|   Male|    0|   0|       50| United-States| <=50K|\n",
            "| 43| Self-emp-not-inc|292175|      Masters|     14|            Divorced|   Exec-managerial|     Unmarried|              White| Female|    0|   0|       45| United-States|  >50K|\n",
            "+---+-----------------+------+-------------+-------+--------------------+------------------+--------------+-------------------+-------+-----+----+---------+--------------+------+\n",
            "only showing top 20 rows\n",
            "\n"
          ]
        }
      ]
    },
    {
      "cell_type": "code",
      "source": [
        "#Transformation of the data\n",
        "for col in categorical_cols:\n",
        "  index_df=indexer(new_df,col)\n",
        "  new_df=index_df"
      ],
      "metadata": {
        "id": "z7UzvNWbS6dP"
      },
      "execution_count": 47,
      "outputs": []
    },
    {
      "cell_type": "code",
      "source": [
        "new_df.show()"
      ],
      "metadata": {
        "id": "TIEOp_BES6lQ",
        "colab": {
          "base_uri": "https://localhost:8080/"
        },
        "outputId": "7ececd89-95d8-42b0-b40a-7e9c5a7455d3"
      },
      "execution_count": 48,
      "outputs": [
        {
          "output_type": "stream",
          "name": "stdout",
          "text": [
            "+---+-----------------+------+-------------+-------+--------------------+------------------+--------------+-------------------+-------+-----+----+---------+--------------+------+---------+---------------+-------------+----------------+--------------+----------+------------+-------------+------------+\n",
            "|age|        workclass|fnlwgt|    education|numbers|             marital|        occupation|      relation|               race| gender| gain|loss|hourlypay|       country|income|age_index|education_index|marital_index|occupation_index|relation_index|race_index|gender_index|country_index|income_index|\n",
            "+---+-----------------+------+-------------+-------+--------------------+------------------+--------------+-------------------+-------+-----+----+---------+--------------+------+---------+---------------+-------------+----------------+--------------+----------+------------+-------------+------------+\n",
            "| 39|        State-gov| 77516|    Bachelors|     13|       Never-married|      Adm-clerical| Not-in-family|              White|   Male| 2174|   0|       40| United-States| <=50K|     13.0|            2.0|          1.0|             3.0|           1.0|       0.0|         0.0|          0.0|         0.0|\n",
            "| 50| Self-emp-not-inc| 83311|    Bachelors|     13|  Married-civ-spouse|   Exec-managerial|       Husband|              White|   Male|    0|   0|       13| United-States| <=50K|     29.0|            2.0|          0.0|             2.0|           0.0|       0.0|         0.0|          0.0|         0.0|\n",
            "| 38|          Private|215646|      HS-grad|      9|            Divorced| Handlers-cleaners| Not-in-family|              White|   Male|    0|   0|       40| United-States| <=50K|     12.0|            0.0|          2.0|             9.0|           1.0|       0.0|         0.0|          0.0|         0.0|\n",
            "| 53|          Private|234721|         11th|      7|  Married-civ-spouse| Handlers-cleaners|       Husband|              Black|   Male|    0|   0|       40| United-States| <=50K|     35.0|            5.0|          0.0|             9.0|           0.0|       1.0|         0.0|          0.0|         0.0|\n",
            "| 28|          Private|338409|    Bachelors|     13|  Married-civ-spouse|    Prof-specialty|          Wife|              Black| Female|    0|   0|       40|          Cuba| <=50K|      6.0|            2.0|          0.0|             0.0|           4.0|       1.0|         1.0|          9.0|         0.0|\n",
            "| 37|          Private|284582|      Masters|     14|  Married-civ-spouse|   Exec-managerial|          Wife|              White| Female|    0|   0|       40| United-States| <=50K|      8.0|            3.0|          0.0|             2.0|           4.0|       0.0|         1.0|          0.0|         0.0|\n",
            "| 49|          Private|160187|          9th|      5| Married-spouse-a...|     Other-service| Not-in-family|              Black| Female|    0|   0|       16|       Jamaica| <=50K|     31.0|           10.0|          5.0|             5.0|           1.0|       1.0|         1.0|         11.0|         0.0|\n",
            "| 52| Self-emp-not-inc|209642|      HS-grad|      9|  Married-civ-spouse|   Exec-managerial|       Husband|              White|   Male|    0|   0|       45| United-States|  >50K|     34.0|            0.0|          0.0|             2.0|           0.0|       0.0|         0.0|          0.0|         1.0|\n",
            "| 31|          Private| 45781|      Masters|     14|       Never-married|    Prof-specialty| Not-in-family|              White| Female|14084|   0|       50| United-States|  >50K|      1.0|            3.0|          1.0|             0.0|           1.0|       0.0|         1.0|          0.0|         1.0|\n",
            "| 42|          Private|159449|    Bachelors|     13|  Married-civ-spouse|   Exec-managerial|       Husband|              White|   Male| 5178|   0|       40| United-States|  >50K|     19.0|            2.0|          0.0|             2.0|           0.0|       0.0|         0.0|          0.0|         1.0|\n",
            "| 37|          Private|280464| Some-college|     10|  Married-civ-spouse|   Exec-managerial|       Husband|              Black|   Male|    0|   0|       80| United-States|  >50K|      8.0|            1.0|          0.0|             2.0|           0.0|       1.0|         0.0|          0.0|         1.0|\n",
            "| 30|        State-gov|141297|    Bachelors|     13|  Married-civ-spouse|    Prof-specialty|       Husband| Asian-Pac-Islander|   Male|    0|   0|       40|         India|  >50K|      7.0|            2.0|          0.0|             0.0|           0.0|       2.0|         0.0|          8.0|         1.0|\n",
            "| 23|          Private|122272|    Bachelors|     13|       Never-married|      Adm-clerical|     Own-child|              White| Female|    0|   0|       30| United-States| <=50K|      3.0|            2.0|          1.0|             3.0|           2.0|       0.0|         1.0|          0.0|         0.0|\n",
            "| 32|          Private|205019|   Assoc-acdm|     12|       Never-married|             Sales| Not-in-family|              Black|   Male|    0|   0|       50| United-States| <=50K|     11.0|            6.0|          1.0|             4.0|           1.0|       1.0|         0.0|          0.0|         0.0|\n",
            "| 40|          Private|121772|    Assoc-voc|     11|  Married-civ-spouse|      Craft-repair|       Husband| Asian-Pac-Islander|   Male|    0|   0|       40|             ?|  >50K|     17.0|            4.0|          0.0|             1.0|           0.0|       2.0|         0.0|          2.0|         1.0|\n",
            "| 34|          Private|245487|      7th-8th|      4|  Married-civ-spouse|  Transport-moving|       Husband| Amer-Indian-Eskimo|   Male|    0|   0|       45|        Mexico| <=50K|      2.0|            8.0|          0.0|             8.0|           0.0|       3.0|         0.0|          1.0|         0.0|\n",
            "| 25| Self-emp-not-inc|176756|      HS-grad|      9|       Never-married|   Farming-fishing|     Own-child|              White|   Male|    0|   0|       35| United-States| <=50K|      9.0|            0.0|          1.0|            10.0|           2.0|       0.0|         0.0|          0.0|         0.0|\n",
            "| 32|          Private|186824|      HS-grad|      9|       Never-married| Machine-op-inspct|     Unmarried|              White|   Male|    0|   0|       40| United-States| <=50K|     11.0|            0.0|          1.0|             6.0|           3.0|       0.0|         0.0|          0.0|         0.0|\n",
            "| 38|          Private| 28887|         11th|      7|  Married-civ-spouse|             Sales|       Husband|              White|   Male|    0|   0|       50| United-States| <=50K|     12.0|            5.0|          0.0|             4.0|           0.0|       0.0|         0.0|          0.0|         0.0|\n",
            "| 43| Self-emp-not-inc|292175|      Masters|     14|            Divorced|   Exec-managerial|     Unmarried|              White| Female|    0|   0|       45| United-States|  >50K|     20.0|            3.0|          2.0|             2.0|           3.0|       0.0|         1.0|          0.0|         1.0|\n",
            "+---+-----------------+------+-------------+-------+--------------------+------------------+--------------+-------------------+-------+-----+----+---------+--------------+------+---------+---------------+-------------+----------------+--------------+----------+------------+-------------+------------+\n",
            "only showing top 20 rows\n",
            "\n"
          ]
        }
      ]
    },
    {
      "cell_type": "code",
      "source": [
        "assembler=VectorAssembler(inputCols=[f'{c}_index' for c in categorical_cols]+numerical_cols,outputCol='features')"
      ],
      "metadata": {
        "id": "4JKtwHg3S7CA"
      },
      "execution_count": 49,
      "outputs": []
    },
    {
      "cell_type": "code",
      "source": [
        "vector=assembler.transform(new_df)"
      ],
      "metadata": {
        "id": "TIpJGAcpS7F9"
      },
      "execution_count": 50,
      "outputs": []
    },
    {
      "cell_type": "code",
      "source": [
        "vector.show()"
      ],
      "metadata": {
        "id": "FdlCQzGuS7Id",
        "colab": {
          "base_uri": "https://localhost:8080/"
        },
        "outputId": "28895618-5702-4fb1-f74b-d4632fdba4fb"
      },
      "execution_count": 51,
      "outputs": [
        {
          "output_type": "stream",
          "name": "stdout",
          "text": [
            "+---+-----------------+------+-------------+-------+--------------------+------------------+--------------+-------------------+-------+-----+----+---------+--------------+------+---------+---------------+-------------+----------------+--------------+----------+------------+-------------+------------+--------------------+\n",
            "|age|        workclass|fnlwgt|    education|numbers|             marital|        occupation|      relation|               race| gender| gain|loss|hourlypay|       country|income|age_index|education_index|marital_index|occupation_index|relation_index|race_index|gender_index|country_index|income_index|            features|\n",
            "+---+-----------------+------+-------------+-------+--------------------+------------------+--------------+-------------------+-------+-----+----+---------+--------------+------+---------+---------------+-------------+----------------+--------------+----------+------------+-------------+------------+--------------------+\n",
            "| 39|        State-gov| 77516|    Bachelors|     13|       Never-married|      Adm-clerical| Not-in-family|              White|   Male| 2174|   0|       40| United-States| <=50K|     13.0|            2.0|          1.0|             3.0|           1.0|       0.0|         0.0|          0.0|         0.0|[13.0,2.0,1.0,3.0...|\n",
            "| 50| Self-emp-not-inc| 83311|    Bachelors|     13|  Married-civ-spouse|   Exec-managerial|       Husband|              White|   Male|    0|   0|       13| United-States| <=50K|     29.0|            2.0|          0.0|             2.0|           0.0|       0.0|         0.0|          0.0|         0.0|(15,[0,1,3,9,10,1...|\n",
            "| 38|          Private|215646|      HS-grad|      9|            Divorced| Handlers-cleaners| Not-in-family|              White|   Male|    0|   0|       40| United-States| <=50K|     12.0|            0.0|          2.0|             9.0|           1.0|       0.0|         0.0|          0.0|         0.0|(15,[0,2,3,4,9,10...|\n",
            "| 53|          Private|234721|         11th|      7|  Married-civ-spouse| Handlers-cleaners|       Husband|              Black|   Male|    0|   0|       40| United-States| <=50K|     35.0|            5.0|          0.0|             9.0|           0.0|       1.0|         0.0|          0.0|         0.0|(15,[0,1,3,5,9,10...|\n",
            "| 28|          Private|338409|    Bachelors|     13|  Married-civ-spouse|    Prof-specialty|          Wife|              Black| Female|    0|   0|       40|          Cuba| <=50K|      6.0|            2.0|          0.0|             0.0|           4.0|       1.0|         1.0|          9.0|         0.0|[6.0,2.0,0.0,0.0,...|\n",
            "| 37|          Private|284582|      Masters|     14|  Married-civ-spouse|   Exec-managerial|          Wife|              White| Female|    0|   0|       40| United-States| <=50K|      8.0|            3.0|          0.0|             2.0|           4.0|       0.0|         1.0|          0.0|         0.0|[8.0,3.0,0.0,2.0,...|\n",
            "| 49|          Private|160187|          9th|      5| Married-spouse-a...|     Other-service| Not-in-family|              Black| Female|    0|   0|       16|       Jamaica| <=50K|     31.0|           10.0|          5.0|             5.0|           1.0|       1.0|         1.0|         11.0|         0.0|[31.0,10.0,5.0,5....|\n",
            "| 52| Self-emp-not-inc|209642|      HS-grad|      9|  Married-civ-spouse|   Exec-managerial|       Husband|              White|   Male|    0|   0|       45| United-States|  >50K|     34.0|            0.0|          0.0|             2.0|           0.0|       0.0|         0.0|          0.0|         1.0|(15,[0,3,8,9,10,1...|\n",
            "| 31|          Private| 45781|      Masters|     14|       Never-married|    Prof-specialty| Not-in-family|              White| Female|14084|   0|       50| United-States|  >50K|      1.0|            3.0|          1.0|             0.0|           1.0|       0.0|         1.0|          0.0|         1.0|[1.0,3.0,1.0,0.0,...|\n",
            "| 42|          Private|159449|    Bachelors|     13|  Married-civ-spouse|   Exec-managerial|       Husband|              White|   Male| 5178|   0|       40| United-States|  >50K|     19.0|            2.0|          0.0|             2.0|           0.0|       0.0|         0.0|          0.0|         1.0|[19.0,2.0,0.0,2.0...|\n",
            "| 37|          Private|280464| Some-college|     10|  Married-civ-spouse|   Exec-managerial|       Husband|              Black|   Male|    0|   0|       80| United-States|  >50K|      8.0|            1.0|          0.0|             2.0|           0.0|       1.0|         0.0|          0.0|         1.0|[8.0,1.0,0.0,2.0,...|\n",
            "| 30|        State-gov|141297|    Bachelors|     13|  Married-civ-spouse|    Prof-specialty|       Husband| Asian-Pac-Islander|   Male|    0|   0|       40|         India|  >50K|      7.0|            2.0|          0.0|             0.0|           0.0|       2.0|         0.0|          8.0|         1.0|[7.0,2.0,0.0,0.0,...|\n",
            "| 23|          Private|122272|    Bachelors|     13|       Never-married|      Adm-clerical|     Own-child|              White| Female|    0|   0|       30| United-States| <=50K|      3.0|            2.0|          1.0|             3.0|           2.0|       0.0|         1.0|          0.0|         0.0|[3.0,2.0,1.0,3.0,...|\n",
            "| 32|          Private|205019|   Assoc-acdm|     12|       Never-married|             Sales| Not-in-family|              Black|   Male|    0|   0|       50| United-States| <=50K|     11.0|            6.0|          1.0|             4.0|           1.0|       1.0|         0.0|          0.0|         0.0|[11.0,6.0,1.0,4.0...|\n",
            "| 40|          Private|121772|    Assoc-voc|     11|  Married-civ-spouse|      Craft-repair|       Husband| Asian-Pac-Islander|   Male|    0|   0|       40|             ?|  >50K|     17.0|            4.0|          0.0|             1.0|           0.0|       2.0|         0.0|          2.0|         1.0|[17.0,4.0,0.0,1.0...|\n",
            "| 34|          Private|245487|      7th-8th|      4|  Married-civ-spouse|  Transport-moving|       Husband| Amer-Indian-Eskimo|   Male|    0|   0|       45|        Mexico| <=50K|      2.0|            8.0|          0.0|             8.0|           0.0|       3.0|         0.0|          1.0|         0.0|[2.0,8.0,0.0,8.0,...|\n",
            "| 25| Self-emp-not-inc|176756|      HS-grad|      9|       Never-married|   Farming-fishing|     Own-child|              White|   Male|    0|   0|       35| United-States| <=50K|      9.0|            0.0|          1.0|            10.0|           2.0|       0.0|         0.0|          0.0|         0.0|(15,[0,2,3,4,9,10...|\n",
            "| 32|          Private|186824|      HS-grad|      9|       Never-married| Machine-op-inspct|     Unmarried|              White|   Male|    0|   0|       40| United-States| <=50K|     11.0|            0.0|          1.0|             6.0|           3.0|       0.0|         0.0|          0.0|         0.0|(15,[0,2,3,4,9,10...|\n",
            "| 38|          Private| 28887|         11th|      7|  Married-civ-spouse|             Sales|       Husband|              White|   Male|    0|   0|       50| United-States| <=50K|     12.0|            5.0|          0.0|             4.0|           0.0|       0.0|         0.0|          0.0|         0.0|(15,[0,1,3,9,10,1...|\n",
            "| 43| Self-emp-not-inc|292175|      Masters|     14|            Divorced|   Exec-managerial|     Unmarried|              White| Female|    0|   0|       45| United-States|  >50K|     20.0|            3.0|          2.0|             2.0|           3.0|       0.0|         1.0|          0.0|         1.0|[20.0,3.0,2.0,2.0...|\n",
            "+---+-----------------+------+-------------+-------+--------------------+------------------+--------------+-------------------+-------+-----+----+---------+--------------+------+---------+---------------+-------------+----------------+--------------+----------+------------+-------------+------------+--------------------+\n",
            "only showing top 20 rows\n",
            "\n"
          ]
        }
      ]
    },
    {
      "cell_type": "code",
      "source": [
        "#Ussing correlation metrics\n",
        "from pyspark.ml.stat import Correlation\n",
        "Correlation.corr(vector,'features').show()"
      ],
      "metadata": {
        "id": "NvulhAx6S7NQ",
        "colab": {
          "base_uri": "https://localhost:8080/"
        },
        "outputId": "ba3e14cd-d1c5-4a5f-f835-ac22ed4a245c"
      },
      "execution_count": 52,
      "outputs": [
        {
          "output_type": "stream",
          "name": "stdout",
          "text": [
            "+--------------------+\n",
            "|   pearson(features)|\n",
            "+--------------------+\n",
            "|1.0              ...|\n",
            "+--------------------+\n",
            "\n"
          ]
        }
      ]
    },
    {
      "cell_type": "code",
      "source": [
        "col=[f'{c}_index' for c in categorical_cols]+ numerical_cols"
      ],
      "metadata": {
        "id": "2yUQS0y5raEj"
      },
      "execution_count": 54,
      "outputs": []
    },
    {
      "cell_type": "code",
      "source": [
        "r1=Correlation.corr(vector,'features').head()"
      ],
      "metadata": {
        "id": "Z8Oxxcz8lDo6"
      },
      "execution_count": 56,
      "outputs": []
    },
    {
      "cell_type": "code",
      "source": [
        "print('Pearson correalation martrix:\\n'+str(r1[0]))"
      ],
      "metadata": {
        "id": "lSg8wQktS7Tb",
        "colab": {
          "base_uri": "https://localhost:8080/"
        },
        "outputId": "29f4dfe3-3f66-48cf-9161-bfec8be67de3"
      },
      "execution_count": 57,
      "outputs": [
        {
          "output_type": "stream",
          "name": "stdout",
          "text": [
            "Pearson correalation martrix:\n",
            "DenseMatrix([[ 1.00000000e+00,  1.05730625e-01,  7.26971202e-02,\n",
            "               3.71980873e-02, -7.63761398e-02, -4.87566926e-02,\n",
            "              -1.95395149e-03, -1.48055269e-02,  6.57025772e-02,\n",
            "               6.84357474e-01, -6.18365044e-02, -1.04325558e-01,\n",
            "               4.52066638e-02,  2.01655344e-02, -1.74679748e-01],\n",
            "             [ 1.05730625e-01,  1.00000000e+00, -5.43462520e-03,\n",
            "              -1.64882302e-02, -1.40352218e-02,  3.20378119e-02,\n",
            "              -4.02158184e-02,  8.29998874e-02,  4.24489521e-02,\n",
            "               7.61125290e-02,  3.44838605e-02, -1.70081765e-01,\n",
            "               5.92847625e-02,  2.19380216e-02, -7.92952053e-03],\n",
            "             [ 7.26971202e-02, -5.43462520e-03,  1.00000000e+00,\n",
            "               4.46472295e-02,  4.11140727e-01,  6.89439876e-02,\n",
            "               4.08301403e-01,  2.15264796e-02, -3.11287762e-01,\n",
            "               3.05672475e-02,  5.44716467e-03, -1.04875923e-01,\n",
            "              -5.77145430e-02, -5.33565354e-02, -1.46710908e-01],\n",
            "             [ 3.71980873e-02, -1.64882302e-02,  4.46472295e-02,\n",
            "               1.00000000e+00,  5.26551559e-02,  3.65779801e-02,\n",
            "              -3.45841719e-02, -3.12960698e-04, -1.85636046e-01,\n",
            "              -5.94372268e-02,  1.55878428e-02, -3.16549423e-01,\n",
            "              -7.14539715e-02, -4.84307107e-02, -7.72239669e-02],\n",
            "             [-7.63761398e-02, -1.40352218e-02,  4.11140727e-01,\n",
            "               5.26551559e-02,  1.00000000e+00,  1.13958969e-01,\n",
            "               5.53330155e-01,  4.87439679e-02, -2.54292097e-01,\n",
            "              -2.35690407e-01,  1.81624688e-02, -1.10255651e-01,\n",
            "              -5.75767690e-02, -5.83702565e-02, -2.27606671e-01],\n",
            "             [-4.87566926e-02,  3.20378119e-02,  6.89439876e-02,\n",
            "               3.65779801e-02,  1.13958969e-01,  1.00000000e+00,\n",
            "               6.78399222e-02,  2.17233824e-01, -6.77130720e-02,\n",
            "              -3.99995728e-02,  4.99831748e-04, -3.97595119e-02,\n",
            "              -7.99122568e-03, -1.71895897e-02, -3.31146865e-02],\n",
            "             [-1.95395149e-03, -4.02158184e-02,  4.08301403e-01,\n",
            "              -3.45841719e-02,  5.53330155e-01,  6.78399222e-02,\n",
            "               1.00000000e+00,  1.20410998e-02, -2.15980151e-01,\n",
            "              -8.88317312e-02, -2.68580453e-02, -1.22800543e-02,\n",
            "              -4.84796469e-02, -4.55673547e-02, -2.29309149e-01],\n",
            "             [-1.48055269e-02,  8.29998874e-02,  2.15264796e-02,\n",
            "              -3.12960698e-04,  4.87439679e-02,  2.17233824e-01,\n",
            "               1.20410998e-02,  1.00000000e+00, -1.85824005e-02,\n",
            "               5.03409906e-05,  2.20450580e-02, -2.88340795e-02,\n",
            "              -7.87461293e-03, -3.89271091e-03, -3.36369371e-03],\n",
            "             [ 6.57025772e-02,  4.24489521e-02, -3.11287762e-01,\n",
            "              -1.85636046e-01, -2.54292097e-01, -6.77130720e-02,\n",
            "              -2.15980151e-01, -1.85824005e-02,  1.00000000e+00,\n",
            "               2.34037103e-01, -9.46255725e-03,  3.35153953e-01,\n",
            "               2.23328818e-01,  1.50526312e-01,  2.29689066e-01],\n",
            "             [ 6.84357474e-01,  7.61125290e-02,  3.05672475e-02,\n",
            "              -5.94372268e-02, -2.35690407e-01, -3.99995728e-02,\n",
            "              -8.88317312e-02,  5.03409906e-05,  2.34037103e-01,\n",
            "               1.00000000e+00, -7.66458679e-02,  3.65271895e-02,\n",
            "               7.76744982e-02,  5.77745395e-02,  6.87557075e-02],\n",
            "             [-6.18365044e-02,  3.44838605e-02,  5.44716467e-03,\n",
            "               1.55878428e-02,  1.81624688e-02,  4.99831748e-04,\n",
            "              -2.68580453e-02,  2.20450580e-02, -9.46255725e-03,\n",
            "              -7.66458679e-02,  1.00000000e+00, -4.31946327e-02,\n",
            "               4.31885792e-04, -1.02517117e-02, -1.87684906e-02],\n",
            "             [-1.04325558e-01, -1.70081765e-01, -1.04875923e-01,\n",
            "              -3.16549423e-01, -1.10255651e-01, -3.97595119e-02,\n",
            "              -1.22800543e-02, -2.88340795e-02,  3.35153953e-01,\n",
            "               3.65271895e-02, -4.31946327e-02,  1.00000000e+00,\n",
            "               1.22630115e-01,  7.99229567e-02,  1.48122733e-01],\n",
            "             [ 4.52066638e-02,  5.92847625e-02, -5.77145430e-02,\n",
            "              -7.14539715e-02, -5.75767690e-02, -7.99122568e-03,\n",
            "              -4.84796469e-02, -7.87461293e-03,  2.23328818e-01,\n",
            "               7.76744982e-02,  4.31885792e-04,  1.22630115e-01,\n",
            "               1.00000000e+00, -3.16150630e-02,  7.84086154e-02],\n",
            "             [ 2.01655344e-02,  2.19380216e-02, -5.33565354e-02,\n",
            "              -4.84307107e-02, -5.83702565e-02, -1.71895897e-02,\n",
            "              -4.55673547e-02, -3.89271091e-03,  1.50526312e-01,\n",
            "               5.77745395e-02, -1.02517117e-02,  7.99229567e-02,\n",
            "              -3.16150630e-02,  1.00000000e+00,  5.42563623e-02],\n",
            "             [-1.74679748e-01, -7.92952053e-03, -1.46710908e-01,\n",
            "              -7.72239669e-02, -2.27606671e-01, -3.31146865e-02,\n",
            "              -2.29309149e-01, -3.36369371e-03,  2.29689066e-01,\n",
            "               6.87557075e-02, -1.87684906e-02,  1.48122733e-01,\n",
            "               7.84086154e-02,  5.42563623e-02,  1.00000000e+00]])\n"
          ]
        }
      ]
    },
    {
      "cell_type": "code",
      "source": [
        "from pyspark.ml.classification import NaiveBayes\n",
        "from pyspark.ml.evaluation import MulticlassClassificationEvaluator"
      ],
      "metadata": {
        "id": "gOdwsOPeS7WJ"
      },
      "execution_count": 58,
      "outputs": []
    },
    {
      "cell_type": "code",
      "source": [
        "#Splitting the data\n",
        "splits=data.randomSplit([0.6,0.4], 1234)\n",
        "train=splits[0]\n",
        "test=splits[1]\n",
        "\n"
      ],
      "metadata": {
        "id": "H_uKLM1MtUL-"
      },
      "execution_count": 76,
      "outputs": []
    },
    {
      "cell_type": "code",
      "source": [
        "data=data.select('features','label')"
      ],
      "metadata": {
        "id": "Qu9bsNZupThY"
      },
      "execution_count": 75,
      "outputs": []
    },
    {
      "cell_type": "code",
      "source": [
        "label=StringIndexer(inputCol='income',outputCol='label',handleInvalid='keep')"
      ],
      "metadata": {
        "id": "yxaJW7qMok9b"
      },
      "execution_count": 70,
      "outputs": []
    },
    {
      "cell_type": "code",
      "source": [
        "data=label.fit(data).transform(data)"
      ],
      "metadata": {
        "id": "7byoPRfapzM7"
      },
      "execution_count": 73,
      "outputs": []
    },
    {
      "cell_type": "code",
      "source": [
        "data.show()"
      ],
      "metadata": {
        "id": "nH4JiWFip2XA",
        "colab": {
          "base_uri": "https://localhost:8080/"
        },
        "outputId": "6fedb79f-936a-476a-ed50-e87b4aa25e40"
      },
      "execution_count": 74,
      "outputs": [
        {
          "output_type": "stream",
          "name": "stdout",
          "text": [
            "+--------------------+------+-----+\n",
            "|            features|income|label|\n",
            "+--------------------+------+-----+\n",
            "|[13.0,2.0,1.0,3.0...| <=50K|  0.0|\n",
            "|(15,[0,1,3,9,10,1...| <=50K|  0.0|\n",
            "|(15,[0,2,3,4,9,10...| <=50K|  0.0|\n",
            "|(15,[0,1,3,5,9,10...| <=50K|  0.0|\n",
            "|[6.0,2.0,0.0,0.0,...| <=50K|  0.0|\n",
            "|[8.0,3.0,0.0,2.0,...| <=50K|  0.0|\n",
            "|[31.0,10.0,5.0,5....| <=50K|  0.0|\n",
            "|(15,[0,3,8,9,10,1...|  >50K|  1.0|\n",
            "|[1.0,3.0,1.0,0.0,...|  >50K|  1.0|\n",
            "|[19.0,2.0,0.0,2.0...|  >50K|  1.0|\n",
            "|[8.0,1.0,0.0,2.0,...|  >50K|  1.0|\n",
            "|[7.0,2.0,0.0,0.0,...|  >50K|  1.0|\n",
            "|[3.0,2.0,1.0,3.0,...| <=50K|  0.0|\n",
            "|[11.0,6.0,1.0,4.0...| <=50K|  0.0|\n",
            "|[17.0,4.0,0.0,1.0...|  >50K|  1.0|\n",
            "|[2.0,8.0,0.0,8.0,...| <=50K|  0.0|\n",
            "|(15,[0,2,3,4,9,10...| <=50K|  0.0|\n",
            "|(15,[0,2,3,4,9,10...| <=50K|  0.0|\n",
            "|(15,[0,1,3,9,10,1...| <=50K|  0.0|\n",
            "|[20.0,3.0,2.0,2.0...|  >50K|  1.0|\n",
            "+--------------------+------+-----+\n",
            "only showing top 20 rows\n",
            "\n"
          ]
        }
      ]
    },
    {
      "cell_type": "code",
      "source": [
        "#using the naivebayes model\n",
        "nb=NaiveBayes(featuresCol='features',labelCol='label',smoothing=1.0,modelType='multinomial')"
      ],
      "metadata": {
        "id": "ImZGZRZOpKaa"
      },
      "execution_count": 77,
      "outputs": []
    },
    {
      "cell_type": "code",
      "source": [
        "model=nb.fit(train)"
      ],
      "metadata": {
        "id": "tDIm9-YeprkQ"
      },
      "execution_count": 78,
      "outputs": []
    },
    {
      "cell_type": "code",
      "source": [
        "# select rows to display.\n",
        "predictions = model.transform(test)\n",
        "predictions.show()"
      ],
      "metadata": {
        "colab": {
          "base_uri": "https://localhost:8080/"
        },
        "id": "xGJNCeTqpw5K",
        "outputId": "0b4e9ee0-9e23-4047-f4a8-dcfc3c007337"
      },
      "execution_count": 79,
      "outputs": [
        {
          "output_type": "stream",
          "name": "stdout",
          "text": [
            "+--------------------+-----+--------------------+-----------+----------+\n",
            "|            features|label|       rawPrediction|probability|prediction|\n",
            "+--------------------+-----+--------------------+-----------+----------+\n",
            "|(15,[0,1,2,3,9,10...|  0.0|[-1170.6332690178...|  [1.0,0.0]|       0.0|\n",
            "|(15,[0,1,2,4,9,10...|  0.0|[-1178.7524895374...|  [1.0,0.0]|       0.0|\n",
            "|(15,[0,1,2,4,9,10...|  0.0|[-1116.6188965249...|  [1.0,0.0]|       0.0|\n",
            "|(15,[0,1,2,4,9,10...|  0.0|[-1056.9244173824...|  [1.0,0.0]|       0.0|\n",
            "|(15,[0,1,2,4,9,10...|  0.0|[-1182.2351619669...|  [1.0,0.0]|       0.0|\n",
            "|(15,[0,1,2,4,9,10...|  0.0|[-793.99771379730...|  [1.0,0.0]|       0.0|\n",
            "|(15,[0,1,2,4,9,10...|  0.0|[-1151.1536382195...|  [1.0,0.0]|       0.0|\n",
            "|(15,[0,1,2,4,9,10...|  0.0|[-785.84945549171...|  [1.0,0.0]|       0.0|\n",
            "|(15,[0,1,2,4,9,10...|  0.0|[-1146.4373386532...|  [1.0,0.0]|       0.0|\n",
            "|(15,[0,1,2,4,9,10...|  0.0|[-1107.7771847274...|  [1.0,0.0]|       0.0|\n",
            "|(15,[0,1,2,4,9,10...|  0.0|[-619.11108211966...|  [1.0,0.0]|       0.0|\n",
            "|(15,[0,1,2,4,9,10...|  0.0|[-1180.3749045592...|  [1.0,0.0]|       0.0|\n",
            "|(15,[0,1,2,4,9,10...|  0.0|[-829.75582200058...|  [1.0,0.0]|       0.0|\n",
            "|(15,[0,1,2,4,9,10...|  0.0|[-1169.4936837439...|  [1.0,0.0]|       0.0|\n",
            "|(15,[0,1,2,4,9,10...|  0.0|[-1129.9730083160...|  [1.0,0.0]|       0.0|\n",
            "|(15,[0,1,2,4,9,10...|  0.0|[-1124.6318410050...|  [1.0,0.0]|       0.0|\n",
            "|(15,[0,1,2,4,9,10...|  0.0|[-1226.6151520297...|  [1.0,0.0]|       0.0|\n",
            "|(15,[0,1,2,4,9,10...|  0.0|[-814.39881059407...|  [1.0,0.0]|       0.0|\n",
            "|(15,[0,1,2,4,9,10...|  0.0|[-980.76312784370...|  [1.0,0.0]|       0.0|\n",
            "|(15,[0,1,2,4,9,10...|  0.0|[-1154.0706199752...|  [1.0,0.0]|       0.0|\n",
            "+--------------------+-----+--------------------+-----------+----------+\n",
            "only showing top 20 rows\n",
            "\n"
          ]
        }
      ]
    },
    {
      "cell_type": "code",
      "source": [
        "# compute accuracy on the test set\n",
        "evaluator = MulticlassClassificationEvaluator(labelCol=\"label\", predictionCol=\"prediction\",\n",
        "                                              metricName=\"accuracy\")\n",
        "accuracy = evaluator.evaluate(predictions)\n",
        "print(\"Test set accuracy = \" + str(accuracy))"
      ],
      "metadata": {
        "colab": {
          "base_uri": "https://localhost:8080/"
        },
        "id": "MLUjoN2pp4tg",
        "outputId": "4d3d9a0a-eb41-4923-f924-d94efed37fb5"
      },
      "execution_count": 81,
      "outputs": [
        {
          "output_type": "stream",
          "name": "stdout",
          "text": [
            "Test set accuracy = 0.7859105480079377\n"
          ]
        }
      ]
    },
    {
      "cell_type": "code",
      "source": [],
      "metadata": {
        "id": "duIDeuotqEQh"
      },
      "execution_count": null,
      "outputs": []
    }
  ]
}